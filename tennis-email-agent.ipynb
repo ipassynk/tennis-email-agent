{
  "cells": [
    {
      "cell_type": "markdown",
      "metadata": {
        "colab_type": "text",
        "id": "view-in-github"
      },
      "source": [
        "<a href=\"https://colab.research.google.com/github/ipassynk/tennis-email-agent/blob/main/tennis-email-agent.ipynb\" target=\"_parent\"><img src=\"https://colab.research.google.com/assets/colab-badge.svg\" alt=\"Open In Colab\"/></a>"
      ]
    },
    {
      "cell_type": "code",
      "execution_count": null,
      "id": "1dcb7b34",
      "metadata": {
        "collapsed": true,
        "id": "1dcb7b34",
        "vscode": {
          "languageId": "plaintext"
        }
      },
      "outputs": [],
      "source": [
        "!pip install crewai\n",
        "!pip install crewai_tools\n",
        "!pip install pydantic\n",
        "!pip install -qU langchain-google-community[gmail]\n",
        "!pp install google-auth-oauthlib>=1.2.0\n",
        "!pp install langchain-google-community>=2.0.0\n",
        "!pp install google-auth>=2.20.0\n",
        "!pp install google-api-python-client>=2.100.0"
      ]
    },
    {
      "cell_type": "code",
      "execution_count": null,
      "id": "3e10e51b",
      "metadata": {
        "id": "3e10e51b",
        "vscode": {
          "languageId": "plaintext"
        }
      },
      "outputs": [],
      "source": [
        "from crewai import Agent, Task, Crew, Process\n",
        "from crewai_tools import ScrapeWebsiteTool\n",
        "from crewai_tools import ScrapeElementFromWebsiteTool\n",
        "from langchain_google_community import GmailToolkit\n",
        "from crewai.tools import BaseTool\n",
        "from pydantic import BaseModel, Field\n",
        "from typing import Type, List\n",
        "import os\n",
        "import json"
      ]
    },
    {
      "cell_type": "code",
      "execution_count": null,
      "id": "84189923",
      "metadata": {
        "id": "84189923",
        "vscode": {
          "languageId": "plaintext"
        }
      },
      "outputs": [],
      "source": [
        "website_url = 'https://torontowinterleague.tenniscores.com/?mod=nndz-TjJiOWtORzkwTlJFb0NVU1NzOD0%3D&team=nndz-WVNXOHhMOD0%3D'\n",
        "club_name = \"Thornhill Park Tennis Club\"\n",
        "date = \"11/09\""
      ]
    },
    {
      "cell_type": "code",
      "execution_count": null,
      "id": "bf8b0199",
      "metadata": {
        "id": "bf8b0199",
        "vscode": {
          "languageId": "plaintext"
        }
      },
      "outputs": [],
      "source": [
        "from google.colab import userdata\n",
        "OPENAI_API_KEY = userdata.get('OPENAI_API_KEY')\n",
        "os.environ[\"OPENAI_API_KEY\"] = OPENAI_API_KEY"
      ]
    },
    {
      "cell_type": "code",
      "execution_count": null,
      "id": "4fce118e",
      "metadata": {
        "id": "4fce118e",
        "vscode": {
          "languageId": "plaintext"
        }
      },
      "outputs": [],
      "source": [
        "scrape_tool = ScrapeElementFromWebsiteTool(website_url=website_url, css_element=\".team_schedule\")\n",
        "\n",
        "scraper_agent = Agent(\n",
        "    role=\"Web Scraper\",\n",
        "    goal=\"Extract specific information from websites\",\n",
        "    backstory=\"An expert in web scraping who can extract targeted content from web pages.\",\n",
        "    tools=[scrape_tool],\n",
        "    verbose=True,\n",
        "    llm=\"gpt-4o\"\n",
        ")\n",
        "\n",
        "scrape_task = Task(\n",
        "    description=\"Extract row from a schedule table. Use the CSS selector '.team_schedule' to target the table and find row with date = '12/07'.\",\n",
        "    expected_output=\"A list of the main headlines from CNN.\",\n",
        "    agent=scraper_agent,\n",
        ")"
      ]
    },
    {
      "cell_type": "code",
      "execution_count": null,
      "id": "ea174cf6",
      "metadata": {
        "id": "ea174cf6",
        "vscode": {
          "languageId": "plaintext"
        }
      },
      "outputs": [],
      "source": [
        "class GetCapitanInput(BaseModel):\n",
        "    team: str = Field(..., description=\"Name of the team to lookup\")\n",
        "\n",
        "class GetCapitan(BaseTool):\n",
        "    name: str = \"get_capitan\"\n",
        "    description: str = \"Fetch capitans emails and names by team name from teams.json\"\n",
        "    args_schema: Type[BaseModel] = GetCapitanInput\n",
        "\n",
        "    def _run(self, team: str) -> List[dict]:\n",
        "        try:\n",
        "            with open(\"teams.json\", \"r\") as f:\n",
        "                data = json.load(f)\n",
        "                capitan = [entry for entry in data if entry['team'].lower() == team.lower()]\n",
        "                if not capitan:\n",
        "                    return [{\"message\": f\"No capitans for for team {team}\"}]\n",
        "                return capitan\n",
        "        except Exception as e:\n",
        "            return [{\"error\": str(e)}]\n",
        "\n",
        "capitan_tool = GetCapitan()\n",
        "\n",
        "capitan_agent = Agent(\n",
        "    role=\"Lookup capitan email and name by team name\",\n",
        "    goal=\"Find capitan email and name by team name\",\n",
        "    backstory=(\n",
        "        \"You can find opponet capitain email and name by team name. \"\n",
        "    ),\n",
        "    tools=[capitan_tool],\n",
        "    verbose=True,\n",
        "    llm=\"gpt-4o\"\n",
        ")\n",
        "\n",
        "capitan_task = Task(\n",
        "    description=\"Find capitains emails and name for a team by name\",\n",
        "    expected_output=\"A list of dictionaries containing the name and email of the team's capitain(s).\",\n",
        "    agent=capitan_agent,\n",
        ")"
      ]
    },
    {
      "cell_type": "code",
      "execution_count": null,
      "id": "2058cb04",
      "metadata": {
        "id": "2058cb04",
        "vscode": {
          "languageId": "plaintext"
        }
      },
      "outputs": [],
      "source": [
        "class GetMatchEmailInput(BaseModel):\n",
        "    date: str = Field(..., description=\"Match date. For example: '2025-10-27'\")\n",
        "    time: str = Field(..., description=\"Match time. For example: '7:00pm'\")\n",
        "\n",
        "class GetMatchEmail(BaseTool):\n",
        "    name:str = \"get_match_email\"\n",
        "    description: str = \"Create an email subject and body for a match at Thornhill Park Tennis Club. Input: match_date (string), optional time.\"\n",
        "    args_schema: Type[BaseModel] = GetMatchEmailInput\n",
        "\n",
        "    def _run(self, date: str, time: str):\n",
        "        subject = f\"Match {date} {time} at {club_name}\"\n",
        "\n",
        "        body = f\"\"\"Hi Ladies,\n",
        "\n",
        "            Our teams are scheduled to play on {date} at {time} at the {club_name}.\n",
        "            The club address is 26A Old Yonge St, Thornhill, ON L4J 8C5 (at the corner of Centre St and Yonge St).\n",
        "            There’s a large parking lot near the clubhouse, but you’ll need to obtain temporary parking permits. Please pick them up from the monitor inside the clubhouse and display them on your dashboards. Additional parking is available just across Old Yonge St near the Thornhill Pub.\n",
        "            Looking forward to seeing your team tonight!\n",
        "\n",
        "            Cheers,\n",
        "            Julia Passynkova\n",
        "        \"\"\"\n",
        "        return {\"body\": body, \"subject\": subject}\n",
        "\n",
        "email_tool = GetMatchEmail()\n",
        "\n",
        "email_agent = Agent(\n",
        "    role=\"Tennis email writter\",\n",
        "    goal=\"Create draft email\",\n",
        "    backstory=(\n",
        "        \"You can create draft email for oppoonet team having subject and body. \"\n",
        "    ),\n",
        "    tools=[email_tool],\n",
        "    verbose=True,\n",
        "    llm=\"gpt-4o\"\n",
        ")\n",
        "\n",
        "email_task = Task(\n",
        "    description=\"Create draft reminder email for match.\",\n",
        "    expected_output=\"Create email body and subject.\",\n",
        "    agent=email_agent,\n",
        ")"
      ]
    },
    {
      "cell_type": "code",
      "execution_count": null,
      "id": "78b79b75",
      "metadata": {
        "id": "78b79b75",
        "vscode": {
          "languageId": "plaintext"
        }
      },
      "outputs": [],
      "source": [
        "from langchain_google_community import GmailToolkit\n",
        "from crewai.tools import BaseTool # Import BaseTool\n",
        "import pickle\n",
        "from googleapiclient.discovery import build\n",
        "\n",
        "def get_gmail_service():\n",
        "    \"\"\"Get Gmail service with OAuth credentials.\"\"\"\n",
        "    creds = None\n",
        "    # The file token.pickle stores the user's access and refresh tokens.\n",
        "    if os.path.exists('token.pickle'):\n",
        "        with open('token.pickle', 'rb') as token:\n",
        "            creds = pickle.load(token)\n",
        "\n",
        "    service = build('gmail', 'v1', credentials=creds)\n",
        "    return service\n",
        "\n",
        "service = get_gmail_service()\n",
        "gmail_toolkit = GmailToolkit(api_resource=service)\n",
        "langchain_gmail_tools = gmail_toolkit.get_tools()"
      ]
    },
    {
      "cell_type": "code",
      "execution_count": null,
      "id": "HifeLC5vub_G",
      "metadata": {
        "id": "HifeLC5vub_G"
      },
      "outputs": [],
      "source": [
        "from langchain_google_community import GmailToolkit\n",
        "from crewai.tools import BaseTool\n",
        "from pydantic import BaseModel, Field\n",
        "from typing import Type\n",
        "\n",
        "service = get_gmail_service()\n",
        "toolkit = GmailToolkit(api_resource=service)\n",
        "langchain_gmail_tools = toolkit.get_tools()\n",
        "\n",
        "class GmailToolWrapper(BaseTool):\n",
        "    \"\"\"Wrapper to make LangChain Gmail tools compatible with CrewAI\"\"\"\n",
        "    \n",
        "    def __init__(self, langchain_tool):\n",
        "        super().__init__()\n",
        "        self.langchain_tool = langchain_tool\n",
        "        self.name = langchain_tool.name\n",
        "        self.description = langchain_tool.description\n",
        "        # Copy args_schema if it exists\n",
        "        if hasattr(langchain_tool, 'args_schema'):\n",
        "            self.args_schema = langchain_tool.args_schema\n",
        "\n",
        "    def _run(self, *args, **kwargs):\n",
        "        return self.langchain_tool.run(*args, **kwargs)\n",
        "\n",
        "# Create CrewAI compatible tools using the wrapper\n",
        "crewai_gmail_tools = []\n",
        "for tool in langchain_gmail_tools:\n",
        "    crewai_gmail_tools.append(GmailToolWrapper(tool))\n",
        "\n",
        "print(f\"Loaded {len(crewai_gmail_tools)} Gmail tools:\")\n",
        "for tool in crewai_gmail_tools:\n",
        "    print(f\"- {tool.name}: {tool.description}\")\n",
        "\n",
        "gmail_agent = Agent(\n",
        "    tools=crewai_gmail_tools, # Use the wrapped tools\n",
        "    role=\"Tennis email sender\",\n",
        "    goal=\"Send draft email via GMail\",\n",
        "    backstory=(\n",
        "        \"You can send draft email for opponent emails so I can review and forward the email myself. \"\n",
        "    ),\n",
        "    verbose=True,\n",
        "    llm=\"gpt-4o\"\n",
        ")\n",
        "\n",
        "gmail_task = Task(\n",
        "    description=(\n",
        "        \"After email content has been created, use the gmail tools to: \"\n",
        "        \"1. Create a draft email with the subject and body from the previous step \"\n",
        "        \"2. Set the recipient to the opponent team's captain email \"\n",
        "        \"3. Confirm the draft was created successfully\"\n",
        "    ),\n",
        "    expected_output=\"A draft email confirming match details.\",\n",
        "    agent=gmail_agent,\n",
        ")"
      ]
    },
    {
      "cell_type": "code",
      "execution_count": null,
      "id": "3b70cea1",
      "metadata": {
        "id": "3b70cea1",
        "vscode": {
          "languageId": "plaintext"
        }
      },
      "outputs": [],
      "source": [
        "supervisor_agent = Agent(\n",
        "    role=\"Supervisor Agent\",\n",
        "    goal=\"Coordinate tasks among team lookup and email agents to prepare match communications.\",\n",
        "    backstory=\"Understands how to use other agents to accomplish composite goals.\",\n",
        "    tools=[scrape_tool, capitan_tool, email_tool] + crewai_gmail_tools,\n",
        "    reasoning=True,\n",
        "    max_reasoning_attempts=3,\n",
        "    verbose=True,\n",
        "    llm=\"gpt-4o\"\n",
        ")\n",
        "\n",
        "supervisor_task = Task(\n",
        "    description=(\n",
        "        \"Plan and coordinate the process: \"\n",
        "        \"1. Find if Thornhill Park team plays at home (H) for a specific date. \"\n",
        "        \"2. If Thornhill Park team plays away game (A) tell this and stop the flow. \"\n",
        "        \"3. Get opponent team name. \"\n",
        "        \"4. Find opponent email and name. \"\n",
        "        \"5. Create email body and subject. \"\n",
        "        \"6. CRITICAL: Use the gmail_create_draft tool to create a draft email with the created content and send it to the opponent's email address. \"\n",
        "        \"7. Confirm the draft email was created successfully. \"\n",
        "        \"Do not mark this task as complete until step 6 and 7 are finished.\"\n",
        "    ),\n",
        "    expected_output=\"Confirmation of whether the Thornhill Park team plays at home or away on the specified date, and if playing at home, send drafted email via gmail for the opponent team's captain(s).\",\n",
        "    agent=supervisor_agent,\n",
        "    dependencies=[scrape_task, capitan_task, email_task, gmail_task]\n",
        ")"
      ]
    },
    {
      "cell_type": "code",
      "execution_count": null,
      "id": "3b31d770",
      "metadata": {
        "id": "3b31d770",
        "vscode": {
          "languageId": "plaintext"
        }
      },
      "outputs": [],
      "source": [
        "crew = Crew(\n",
        "  agents=[supervisor_agent],\n",
        "  tasks=[supervisor_task],\n",
        "  verbose=True,\n",
        "  process=Process.sequential,\n",
        "  color=False\n",
        "  #inject_date=True,  # Automatically inject current date into tasks\n",
        "  #date_format=\"%B %d, %Y\",  # Format as \"May 21, 2025\"\n",
        ")"
      ]
    },
    {
      "cell_type": "code",
      "execution_count": null,
      "id": "df436433",
      "metadata": {
        "id": "df436433",
        "vscode": {
          "languageId": "plaintext"
        }
      },
      "outputs": [],
      "source": [
        "inputs = {\n",
        "    \"date\": date,\n",
        "}\n",
        "\n",
        "result = crew.kickoff(inputs=inputs)"
      ]
    },
    {
      "cell_type": "code",
      "execution_count": null,
      "id": "b2408254",
      "metadata": {},
      "outputs": [],
      "source": [
        "# Debug: Check if Gmail tools are properly loaded\n",
        "print(\"Available Gmail tools:\")\n",
        "for tool in crewai_gmail_tools:\n",
        "    print(f\"- {tool.name}: {tool.description}\")\n",
        "    \n",
        "print(f\"\\nTotal Gmail tools loaded: {len(crewai_gmail_tools)}\")\n",
        "\n",
        "# Test if tools are accessible to the supervisor agent\n",
        "print(f\"\\nSupervisor agent tools count: {len(supervisor_agent.tools)}\")\n",
        "print(\"Supervisor agent tool names:\")\n",
        "for tool in supervisor_agent.tools:\n",
        "    print(f\"- {tool.name}\")\n",
        "\n",
        "# Check if Gmail service is working\n",
        "try:\n",
        "    service = get_gmail_service()\n",
        "    print(f\"\\nGmail service status: Connected successfully\")\n",
        "except Exception as e:\n",
        "    print(f\"\\nGmail service error: {e}\")\n"
      ]
    }
  ],
  "metadata": {
    "colab": {
      "include_colab_link": true,
      "provenance": []
    },
    "kernelspec": {
      "display_name": "Python 3",
      "name": "python3"
    },
    "language_info": {
      "name": "python"
    }
  },
  "nbformat": 4,
  "nbformat_minor": 5
}
