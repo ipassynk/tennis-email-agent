{
 "cells": [
  {
   "cell_type": "code",
   "execution_count": null,
   "id": "1dcb7b34",
   "metadata": {
    "vscode": {
     "languageId": "plaintext"
    }
   },
   "outputs": [],
   "source": [
    "!pip install crewai\n",
    "!pip install crewai_tools\n",
    "!pip install pydantic"
   ]
  },
  {
   "cell_type": "code",
   "execution_count": null,
   "id": "3e10e51b",
   "metadata": {
    "vscode": {
     "languageId": "plaintext"
    }
   },
   "outputs": [],
   "source": [
    "from crewai import Agent, Task, Crew, Process\n",
    "from crewai_tools import GmailTool\n",
    "from crewai_tools import ScrapeWebsiteTool\n",
    "from crewai_tools import ScrapeElementFromWebsiteTool\n",
    "from crewai.tools import BaseTool\n",
    "from pydantic import BaseModel, Field\n",
    "from typing import Type\n",
    "import os\n",
    "import json"
   ]
  },
  {
   "cell_type": "code",
   "execution_count": null,
   "id": "84189923",
   "metadata": {
    "vscode": {
     "languageId": "plaintext"
    }
   },
   "outputs": [],
   "source": [
    "website_url = 'https://torontowinterleague.tenniscores.com/?mod=nndz-TjJiOWtORzkwTlJFb0NVU1NzOD0%3D&team=nndz-WVNXOHhMOD0%3D'\n",
    "club_name = \"Thornhill Park Tennis Club\"\n",
    "date = \"11/09\""
   ]
  },
  {
   "cell_type": "code",
   "execution_count": null,
   "id": "bf8b0199",
   "metadata": {
    "vscode": {
     "languageId": "plaintext"
    }
   },
   "outputs": [],
   "source": [
    "gc_client_id = os.getenv('gc_client_id')\n",
    "gc_client_secret = os.getenv('gc_client_secret')\n",
    "gc_refresh_token = os.getenv('gc_refresh_token')\n",
    "openai_api_key = os.getenv('OPENAI_API_KEY')"
   ]
  },
  {
   "cell_type": "code",
   "execution_count": null,
   "id": "4fce118e",
   "metadata": {
    "vscode": {
     "languageId": "plaintext"
    }
   },
   "outputs": [],
   "source": [
    "scrape_tool = ScrapeElementFromWebsiteTool(website_url=website_url)\n",
    "\n",
    "scrape_tool = ScrapeElementFromWebsiteTool()\n",
    "\n",
    "scraper_agent = Agent(\n",
    "    role=\"Web Scraper\",\n",
    "    goal=\"Extract specific information from websites\",\n",
    "    backstory=\"An expert in web scraping who can extract targeted content from web pages.\",\n",
    "    tools=[scrape_tool],\n",
    "    verbose=True,\n",
    "    llm=\"gpt-4o\",\n",
    "    openai_api_key=openai_api_key\n",
    ")\n",
    "\n",
    "scrape_task = Task(\n",
    "    description=\"Extract row from a schedule table. Use the CSS selector '.team_schedule' to target the table and find row with date = '12/07'.\",\n",
    "    expected_output=\"A list of the main headlines from CNN.\",\n",
    "    agent=scraper_agent,\n",
    ")"
   ]
  },
  {
   "cell_type": "code",
   "execution_count": null,
   "id": "ea174cf6",
   "metadata": {
    "vscode": {
     "languageId": "plaintext"
    }
   },
   "outputs": [],
   "source": [
    "class GetCapitanInput(BaseModel):\n",
    "    team: str = Field(..., description=\"Name of the team to lookup\")\n",
    "\n",
    "class GetCapitan(BaseTool):\n",
    "    name: str = \"get_capitan\"\n",
    "    description: str = \"Fetch capitans emails and names by team name from teams.json\"\n",
    "    args_schema: Type[BaseModel] = GetCapitanInput\n",
    "\n",
    "    def _run(self, team: str) -> List[dict]:\n",
    "        try:\n",
    "            with open(\"teams.json\", \"r\") as f:\n",
    "                data = json.load(f)\n",
    "                capitans = [entry for entry in data if entry['team'].lower() == team.lower()]\n",
    "                if not capitans:\n",
    "                    return [{\"message\": f\"No capitans for for team {team}\"}]\n",
    "                return capitans\n",
    "        except Exception as e:\n",
    "            return [{\"error\": str(e)}]\n",
    "\n",
    "capitan_tool = GetCapitan()\n",
    "\n",
    "capitan_agent = Agent(\n",
    "    role=\"Lookup email and name by team name\",\n",
    "    goal=\"Find email and name by team name\",\n",
    "    backstory=(\n",
    "        \"You can find opponet capitain email and name by team name. \"\n",
    "    ),\n",
    "    tools=[capitan_tool],\n",
    "    verbose=True,\n",
    "    llm=\"gpt-4o\",\n",
    "    openai_api_key=openai_api_key\n",
    ")\n",
    "\n",
    "capitan_task = Task(\n",
    "    description=\"Find capitains emails and name for a team by name\",\n",
    "    agent=capitan_agent,\n",
    ")"
   ]
  },
  {
   "cell_type": "code",
   "execution_count": null,
   "id": "2058cb04",
   "metadata": {
    "vscode": {
     "languageId": "plaintext"
    }
   },
   "outputs": [],
   "source": [
    "class GetMatchEmailInput(BaseModel):\n",
    "    match_date: str = Field(..., description=\"Match date. For example: '2025-10-27'\")\n",
    "    match_time: str = Field(..., description=\"Match time. For example: '7:00pm'\")\n",
    "\n",
    "class GetMatchEmail(BaseTool):\n",
    "    name:str = \"get_match_email\"\n",
    "    description: str = \"Create an email subject and body for a match at Thornhill Park Tennis Club. Input: match_date (string), optional time.\"\n",
    "    args_schema: Type[BaseModel] = GetMatchEmailInput\n",
    "\n",
    "    def _run(self, date: str, time: str):\n",
    "        subject = f\"Match {date} at {club_name}\"\n",
    "\n",
    "        body = f\"\"\"Hi Ladies,\n",
    "\n",
    "            Our teams are scheduled to play on {date} at {time} at the {club_name}.\n",
    "            The club address is 26A Old Yonge St, Thornhill, ON L4J 8C5 (at the corner of Centre St and Yonge St).\n",
    "            There’s a large parking lot near the clubhouse, but you’ll need to obtain temporary parking permits. Please pick them up from the monitor inside the clubhouse and display them on your dashboards. Additional parking is available just across Old Yonge St near the Thornhill Pub.\n",
    "            Looking forward to seeing your team tonight!\n",
    "\n",
    "            Cheers,\n",
    "            Julia Passynkova\n",
    "        \"\"\"\n",
    "        return {\"body\": body, \"subject\": subject}\n",
    "\n",
    "email_tool = GetMatchEmail()\n",
    "\n",
    "email_agent = Agent(\n",
    "    role=\"Tennis email writter\",\n",
    "    goal=\"Create draft email\",\n",
    "    backstory=(\n",
    "        \"You can create draft email for oppoonet team having subject and body. \"\n",
    "    ),\n",
    "    tools=[email_tool],\n",
    "    verbose=True,\n",
    "    llm=\"gpt-4o\",\n",
    "    openai_api_key=openai_api_key\n",
    ")\n",
    "\n",
    "email_task = Task(\n",
    "    description=\"Create draft reminder email for match.\",\n",
    "    expected_output=\"Create email body and subject.\",\n",
    "    agent=email_agent,\n",
    ")"
   ]
  },
  {
   "cell_type": "code",
   "execution_count": null,
   "id": "78b79b75",
   "metadata": {
    "vscode": {
     "languageId": "plaintext"
    }
   },
   "outputs": [],
   "source": [
    "gmail_tool = GmailTool(\n",
    "    client_id=gc_client_id,\n",
    "    client_secret=gc_client_secret,\n",
    "    refresh_token=gc_refresh_token\n",
    ")\n",
    "\n",
    "gmail_agent = Agent(\n",
    "    role=\"Tennis email sender\",\n",
    "    goal=\"Send draft email via GMail\",\n",
    "    backstory=(\n",
    "        \"You can send draft email for oppoonet emails so I can review and forward the email myself. \"\n",
    "    ),\n",
    "    tools=[gmail_tool],\n",
    "    verbose=True,\n",
    "    llm=\"gpt-4o\",\n",
    "    openai_api_key=openai_api_key\n",
    ")\n",
    "\n",
    "gmail_task = Task(\n",
    "    description=\"Draft and send a reminder email for Monday’s match.\",\n",
    "    expected_output=\"A sent email confirming match details.\",\n",
    "    agent=gmail_agent,\n",
    ")"
   ]
  },
  {
   "cell_type": "code",
   "execution_count": null,
   "id": "3b70cea1",
   "metadata": {
    "vscode": {
     "languageId": "plaintext"
    }
   },
   "outputs": [],
   "source": [
    "supervisor_agent = Agent(\n",
    "    role=\"Supervisor Agent\",\n",
    "    goal=\"Coordinate tasks among team lookup and email agents to prepare match communications.\",\n",
    "    backstory=\"Understands how to use other agents to accomplish composite goals.\",\n",
    "    reasoning=True,\n",
    "    max_reasoning_attempts=3,\n",
    "    verbose=True,\n",
    "    llm=\"gpt-4o\",\n",
    "    openai_api_key=openai_api_key\n",
    ")\n",
    "\n",
    "supervisor_task = Task(\n",
    "    description=(\n",
    "        \"Plan and coordinate the process: \"\n",
    "        \"Find if Thornhill Park team plays at home (H) for a specific date. \"\n",
    "        \"If Thornhill Park team plays away game (A) tell this and stop the flow. \" \n",
    "        \"Get opponent team name. \"\n",
    "        \"Find opponent email and name. \"\n",
    "        \"Create email body and subject. \"\n",
    "        \"Send draft email for opponent emails so I can review and forward the email myself. \"\n",
    "    ),\n",
    "    agent=supervisor_agent,\n",
    "    dependencies=[scrape_task, capitan_task, email_task, gmail_task]\n",
    ")"
   ]
  },
  {
   "cell_type": "code",
   "execution_count": null,
   "id": "3b31d770",
   "metadata": {
    "vscode": {
     "languageId": "plaintext"
    }
   },
   "outputs": [],
   "source": [
    "crew = Crew(\n",
    "  agents=[supervisor_agent],\n",
    "  tasks=[supervisor_task],\n",
    "  verbose=True,\n",
    "  process=Process.sequential,\n",
    "  #inject_date=True,  # Automatically inject current date into tasks\n",
    "  #date_format=\"%B %d, %Y\",  # Format as \"May 21, 2025\"\n",
    ")"
   ]
  },
  {
   "cell_type": "code",
   "execution_count": null,
   "id": "df436433",
   "metadata": {
    "vscode": {
     "languageId": "plaintext"
    }
   },
   "outputs": [],
   "source": [
    "inputs = {\n",
    "    \"date\": date,\n",
    "}\n",
    "\n",
    "result = crew.kickoff(inputs=inputs)"
   ]
  }
 ],
 "metadata": {
  "language_info": {
   "name": "python"
  }
 },
 "nbformat": 4,
 "nbformat_minor": 5
}
