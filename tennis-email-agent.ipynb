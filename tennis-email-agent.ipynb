{
  "cells": [
    {
      "cell_type": "markdown",
      "metadata": {
        "id": "view-in-github",
        "colab_type": "text"
      },
      "source": [
        "<a href=\"https://colab.research.google.com/github/ipassynk/tennis-email-agent/blob/main/tennis-email-agent.ipynb\" target=\"_parent\"><img src=\"https://colab.research.google.com/assets/colab-badge.svg\" alt=\"Open In Colab\"/></a>"
      ]
    },
    {
      "cell_type": "code",
      "execution_count": 112,
      "id": "1dcb7b34",
      "metadata": {
        "vscode": {
          "languageId": "plaintext"
        },
        "colab": {
          "base_uri": "https://localhost:8080/"
        },
        "collapsed": true,
        "id": "1dcb7b34",
        "outputId": "48b87330-720b-4c36-95a9-f414b9edd2e0"
      },
      "outputs": [
        {
          "output_type": "stream",
          "name": "stdout",
          "text": [
            "Requirement already satisfied: crewai in /usr/local/lib/python3.12/dist-packages (1.2.1)\n",
            "Requirement already satisfied: appdirs>=1.4.4 in /usr/local/lib/python3.12/dist-packages (from crewai) (1.4.4)\n",
            "Requirement already satisfied: chromadb~=1.1.0 in /usr/local/lib/python3.12/dist-packages (from crewai) (1.1.1)\n",
            "Requirement already satisfied: click>=8.1.7 in /usr/local/lib/python3.12/dist-packages (from crewai) (8.3.0)\n",
            "Requirement already satisfied: instructor>=1.3.3 in /usr/local/lib/python3.12/dist-packages (from crewai) (1.12.0)\n",
            "Requirement already satisfied: json-repair==0.25.2 in /usr/local/lib/python3.12/dist-packages (from crewai) (0.25.2)\n",
            "Requirement already satisfied: json5>=0.10.0 in /usr/local/lib/python3.12/dist-packages (from crewai) (0.12.1)\n",
            "Requirement already satisfied: jsonref>=1.1.0 in /usr/local/lib/python3.12/dist-packages (from crewai) (1.1.0)\n",
            "Requirement already satisfied: mcp>=1.16.0 in /usr/local/lib/python3.12/dist-packages (from crewai) (1.18.0)\n",
            "Requirement already satisfied: openai>=1.13.3 in /usr/local/lib/python3.12/dist-packages (from crewai) (1.109.1)\n",
            "Requirement already satisfied: openpyxl>=3.1.5 in /usr/local/lib/python3.12/dist-packages (from crewai) (3.1.5)\n",
            "Requirement already satisfied: opentelemetry-api>=1.30.0 in /usr/local/lib/python3.12/dist-packages (from crewai) (1.37.0)\n",
            "Requirement already satisfied: opentelemetry-exporter-otlp-proto-http>=1.30.0 in /usr/local/lib/python3.12/dist-packages (from crewai) (1.37.0)\n",
            "Requirement already satisfied: opentelemetry-sdk>=1.30.0 in /usr/local/lib/python3.12/dist-packages (from crewai) (1.37.0)\n",
            "Requirement already satisfied: pdfplumber>=0.11.4 in /usr/local/lib/python3.12/dist-packages (from crewai) (0.11.7)\n",
            "Requirement already satisfied: portalocker==2.7.0 in /usr/local/lib/python3.12/dist-packages (from crewai) (2.7.0)\n",
            "Requirement already satisfied: pydantic-settings>=2.10.1 in /usr/local/lib/python3.12/dist-packages (from crewai) (2.11.0)\n",
            "Requirement already satisfied: pydantic>=2.11.9 in /usr/local/lib/python3.12/dist-packages (from crewai) (2.11.10)\n",
            "Requirement already satisfied: pyjwt>=2.9.0 in /usr/local/lib/python3.12/dist-packages (from crewai) (2.10.1)\n",
            "Requirement already satisfied: python-dotenv>=1.1.1 in /usr/local/lib/python3.12/dist-packages (from crewai) (1.1.1)\n",
            "Requirement already satisfied: pyvis>=0.3.2 in /usr/local/lib/python3.12/dist-packages (from crewai) (0.3.2)\n",
            "Requirement already satisfied: regex>=2024.9.11 in /usr/local/lib/python3.12/dist-packages (from crewai) (2024.11.6)\n",
            "Requirement already satisfied: tokenizers>=0.20.3 in /usr/local/lib/python3.12/dist-packages (from crewai) (0.22.1)\n",
            "Requirement already satisfied: tomli-w>=1.1.0 in /usr/local/lib/python3.12/dist-packages (from crewai) (1.2.0)\n",
            "Requirement already satisfied: tomli>=2.0.2 in /usr/local/lib/python3.12/dist-packages (from crewai) (2.3.0)\n",
            "Requirement already satisfied: uv>=0.4.25 in /usr/local/lib/python3.12/dist-packages (from crewai) (0.9.5)\n",
            "Requirement already satisfied: build>=1.0.3 in /usr/local/lib/python3.12/dist-packages (from chromadb~=1.1.0->crewai) (1.3.0)\n",
            "Requirement already satisfied: pybase64>=1.4.1 in /usr/local/lib/python3.12/dist-packages (from chromadb~=1.1.0->crewai) (1.4.2)\n",
            "Requirement already satisfied: uvicorn>=0.18.3 in /usr/local/lib/python3.12/dist-packages (from uvicorn[standard]>=0.18.3->chromadb~=1.1.0->crewai) (0.38.0)\n",
            "Requirement already satisfied: numpy>=1.22.5 in /usr/local/lib/python3.12/dist-packages (from chromadb~=1.1.0->crewai) (2.0.2)\n",
            "Requirement already satisfied: posthog<6.0.0,>=2.4.0 in /usr/local/lib/python3.12/dist-packages (from chromadb~=1.1.0->crewai) (5.4.0)\n",
            "Requirement already satisfied: typing-extensions>=4.5.0 in /usr/local/lib/python3.12/dist-packages (from chromadb~=1.1.0->crewai) (4.15.0)\n",
            "Requirement already satisfied: onnxruntime>=1.14.1 in /usr/local/lib/python3.12/dist-packages (from chromadb~=1.1.0->crewai) (1.23.2)\n",
            "Requirement already satisfied: opentelemetry-exporter-otlp-proto-grpc>=1.2.0 in /usr/local/lib/python3.12/dist-packages (from chromadb~=1.1.0->crewai) (1.37.0)\n",
            "Requirement already satisfied: pypika>=0.48.9 in /usr/local/lib/python3.12/dist-packages (from chromadb~=1.1.0->crewai) (0.48.9)\n",
            "Requirement already satisfied: tqdm>=4.65.0 in /usr/local/lib/python3.12/dist-packages (from chromadb~=1.1.0->crewai) (4.67.1)\n",
            "Requirement already satisfied: overrides>=7.3.1 in /usr/local/lib/python3.12/dist-packages (from chromadb~=1.1.0->crewai) (7.7.0)\n",
            "Requirement already satisfied: importlib-resources in /usr/local/lib/python3.12/dist-packages (from chromadb~=1.1.0->crewai) (6.5.2)\n",
            "Requirement already satisfied: grpcio>=1.58.0 in /usr/local/lib/python3.12/dist-packages (from chromadb~=1.1.0->crewai) (1.75.1)\n",
            "Requirement already satisfied: bcrypt>=4.0.1 in /usr/local/lib/python3.12/dist-packages (from chromadb~=1.1.0->crewai) (5.0.0)\n",
            "Requirement already satisfied: typer>=0.9.0 in /usr/local/lib/python3.12/dist-packages (from chromadb~=1.1.0->crewai) (0.20.0)\n",
            "Requirement already satisfied: kubernetes>=28.1.0 in /usr/local/lib/python3.12/dist-packages (from chromadb~=1.1.0->crewai) (34.1.0)\n",
            "Requirement already satisfied: tenacity>=8.2.3 in /usr/local/lib/python3.12/dist-packages (from chromadb~=1.1.0->crewai) (8.5.0)\n",
            "Requirement already satisfied: pyyaml>=6.0.0 in /usr/local/lib/python3.12/dist-packages (from chromadb~=1.1.0->crewai) (6.0.3)\n",
            "Requirement already satisfied: mmh3>=4.0.1 in /usr/local/lib/python3.12/dist-packages (from chromadb~=1.1.0->crewai) (5.2.0)\n",
            "Requirement already satisfied: orjson>=3.9.12 in /usr/local/lib/python3.12/dist-packages (from chromadb~=1.1.0->crewai) (3.11.3)\n",
            "Requirement already satisfied: httpx>=0.27.0 in /usr/local/lib/python3.12/dist-packages (from chromadb~=1.1.0->crewai) (0.28.1)\n",
            "Requirement already satisfied: rich>=10.11.0 in /usr/local/lib/python3.12/dist-packages (from chromadb~=1.1.0->crewai) (13.9.4)\n",
            "Requirement already satisfied: jsonschema>=4.19.0 in /usr/local/lib/python3.12/dist-packages (from chromadb~=1.1.0->crewai) (4.25.1)\n",
            "Requirement already satisfied: aiohttp<4.0.0,>=3.9.1 in /usr/local/lib/python3.12/dist-packages (from instructor>=1.3.3->crewai) (3.13.1)\n",
            "Requirement already satisfied: diskcache>=5.6.3 in /usr/local/lib/python3.12/dist-packages (from instructor>=1.3.3->crewai) (5.6.3)\n",
            "Requirement already satisfied: docstring-parser<1.0,>=0.16 in /usr/local/lib/python3.12/dist-packages (from instructor>=1.3.3->crewai) (0.17.0)\n",
            "Requirement already satisfied: jinja2<4.0.0,>=3.1.4 in /usr/local/lib/python3.12/dist-packages (from instructor>=1.3.3->crewai) (3.1.6)\n",
            "Requirement already satisfied: jiter<0.11,>=0.6.1 in /usr/local/lib/python3.12/dist-packages (from instructor>=1.3.3->crewai) (0.10.0)\n",
            "Requirement already satisfied: pre-commit>=4.3.0 in /usr/local/lib/python3.12/dist-packages (from instructor>=1.3.3->crewai) (4.3.0)\n",
            "Requirement already satisfied: pydantic-core<3.0.0,>=2.18.0 in /usr/local/lib/python3.12/dist-packages (from instructor>=1.3.3->crewai) (2.33.2)\n",
            "Requirement already satisfied: requests<3.0.0,>=2.32.3 in /usr/local/lib/python3.12/dist-packages (from instructor>=1.3.3->crewai) (2.32.5)\n",
            "Requirement already satisfied: anyio>=4.5 in /usr/local/lib/python3.12/dist-packages (from mcp>=1.16.0->crewai) (4.11.0)\n",
            "Requirement already satisfied: httpx-sse>=0.4 in /usr/local/lib/python3.12/dist-packages (from mcp>=1.16.0->crewai) (0.4.3)\n",
            "Requirement already satisfied: python-multipart>=0.0.9 in /usr/local/lib/python3.12/dist-packages (from mcp>=1.16.0->crewai) (0.0.20)\n",
            "Requirement already satisfied: sse-starlette>=1.6.1 in /usr/local/lib/python3.12/dist-packages (from mcp>=1.16.0->crewai) (3.0.2)\n",
            "Requirement already satisfied: starlette>=0.27 in /usr/local/lib/python3.12/dist-packages (from mcp>=1.16.0->crewai) (0.48.0)\n",
            "Requirement already satisfied: distro<2,>=1.7.0 in /usr/local/lib/python3.12/dist-packages (from openai>=1.13.3->crewai) (1.9.0)\n",
            "Requirement already satisfied: sniffio in /usr/local/lib/python3.12/dist-packages (from openai>=1.13.3->crewai) (1.3.1)\n",
            "Requirement already satisfied: et-xmlfile in /usr/local/lib/python3.12/dist-packages (from openpyxl>=3.1.5->crewai) (2.0.0)\n",
            "Requirement already satisfied: importlib-metadata<8.8.0,>=6.0 in /usr/local/lib/python3.12/dist-packages (from opentelemetry-api>=1.30.0->crewai) (8.7.0)\n",
            "Requirement already satisfied: googleapis-common-protos~=1.52 in /usr/local/lib/python3.12/dist-packages (from opentelemetry-exporter-otlp-proto-http>=1.30.0->crewai) (1.71.0)\n",
            "Requirement already satisfied: opentelemetry-exporter-otlp-proto-common==1.37.0 in /usr/local/lib/python3.12/dist-packages (from opentelemetry-exporter-otlp-proto-http>=1.30.0->crewai) (1.37.0)\n",
            "Requirement already satisfied: opentelemetry-proto==1.37.0 in /usr/local/lib/python3.12/dist-packages (from opentelemetry-exporter-otlp-proto-http>=1.30.0->crewai) (1.37.0)\n",
            "Requirement already satisfied: protobuf<7.0,>=5.0 in /usr/local/lib/python3.12/dist-packages (from opentelemetry-proto==1.37.0->opentelemetry-exporter-otlp-proto-http>=1.30.0->crewai) (5.29.5)\n",
            "Requirement already satisfied: opentelemetry-semantic-conventions==0.58b0 in /usr/local/lib/python3.12/dist-packages (from opentelemetry-sdk>=1.30.0->crewai) (0.58b0)\n",
            "Requirement already satisfied: pdfminer.six==20250506 in /usr/local/lib/python3.12/dist-packages (from pdfplumber>=0.11.4->crewai) (20250506)\n",
            "Requirement already satisfied: Pillow>=9.1 in /usr/local/lib/python3.12/dist-packages (from pdfplumber>=0.11.4->crewai) (11.3.0)\n",
            "Requirement already satisfied: pypdfium2>=4.18.0 in /usr/local/lib/python3.12/dist-packages (from pdfplumber>=0.11.4->crewai) (5.0.0)\n",
            "Requirement already satisfied: charset-normalizer>=2.0.0 in /usr/local/lib/python3.12/dist-packages (from pdfminer.six==20250506->pdfplumber>=0.11.4->crewai) (3.4.4)\n",
            "Requirement already satisfied: cryptography>=36.0.0 in /usr/local/lib/python3.12/dist-packages (from pdfminer.six==20250506->pdfplumber>=0.11.4->crewai) (43.0.3)\n",
            "Requirement already satisfied: annotated-types>=0.6.0 in /usr/local/lib/python3.12/dist-packages (from pydantic>=2.11.9->crewai) (0.7.0)\n",
            "Requirement already satisfied: typing-inspection>=0.4.0 in /usr/local/lib/python3.12/dist-packages (from pydantic>=2.11.9->crewai) (0.4.2)\n",
            "Requirement already satisfied: ipython>=5.3.0 in /usr/local/lib/python3.12/dist-packages (from pyvis>=0.3.2->crewai) (7.34.0)\n",
            "Requirement already satisfied: jsonpickle>=1.4.1 in /usr/local/lib/python3.12/dist-packages (from pyvis>=0.3.2->crewai) (4.1.1)\n",
            "Requirement already satisfied: networkx>=1.11 in /usr/local/lib/python3.12/dist-packages (from pyvis>=0.3.2->crewai) (3.5)\n",
            "Requirement already satisfied: huggingface-hub<2.0,>=0.16.4 in /usr/local/lib/python3.12/dist-packages (from tokenizers>=0.20.3->crewai) (0.35.3)\n",
            "Requirement already satisfied: aiohappyeyeballs>=2.5.0 in /usr/local/lib/python3.12/dist-packages (from aiohttp<4.0.0,>=3.9.1->instructor>=1.3.3->crewai) (2.6.1)\n",
            "Requirement already satisfied: aiosignal>=1.4.0 in /usr/local/lib/python3.12/dist-packages (from aiohttp<4.0.0,>=3.9.1->instructor>=1.3.3->crewai) (1.4.0)\n",
            "Requirement already satisfied: attrs>=17.3.0 in /usr/local/lib/python3.12/dist-packages (from aiohttp<4.0.0,>=3.9.1->instructor>=1.3.3->crewai) (25.4.0)\n",
            "Requirement already satisfied: frozenlist>=1.1.1 in /usr/local/lib/python3.12/dist-packages (from aiohttp<4.0.0,>=3.9.1->instructor>=1.3.3->crewai) (1.8.0)\n",
            "Requirement already satisfied: multidict<7.0,>=4.5 in /usr/local/lib/python3.12/dist-packages (from aiohttp<4.0.0,>=3.9.1->instructor>=1.3.3->crewai) (6.7.0)\n",
            "Requirement already satisfied: propcache>=0.2.0 in /usr/local/lib/python3.12/dist-packages (from aiohttp<4.0.0,>=3.9.1->instructor>=1.3.3->crewai) (0.4.1)\n",
            "Requirement already satisfied: yarl<2.0,>=1.17.0 in /usr/local/lib/python3.12/dist-packages (from aiohttp<4.0.0,>=3.9.1->instructor>=1.3.3->crewai) (1.22.0)\n",
            "Requirement already satisfied: idna>=2.8 in /usr/local/lib/python3.12/dist-packages (from anyio>=4.5->mcp>=1.16.0->crewai) (3.11)\n",
            "Requirement already satisfied: packaging>=19.1 in /usr/local/lib/python3.12/dist-packages (from build>=1.0.3->chromadb~=1.1.0->crewai) (25.0)\n",
            "Requirement already satisfied: pyproject_hooks in /usr/local/lib/python3.12/dist-packages (from build>=1.0.3->chromadb~=1.1.0->crewai) (1.2.0)\n",
            "Requirement already satisfied: certifi in /usr/local/lib/python3.12/dist-packages (from httpx>=0.27.0->chromadb~=1.1.0->crewai) (2025.10.5)\n",
            "Requirement already satisfied: httpcore==1.* in /usr/local/lib/python3.12/dist-packages (from httpx>=0.27.0->chromadb~=1.1.0->crewai) (1.0.9)\n",
            "Requirement already satisfied: h11>=0.16 in /usr/local/lib/python3.12/dist-packages (from httpcore==1.*->httpx>=0.27.0->chromadb~=1.1.0->crewai) (0.16.0)\n",
            "Requirement already satisfied: filelock in /usr/local/lib/python3.12/dist-packages (from huggingface-hub<2.0,>=0.16.4->tokenizers>=0.20.3->crewai) (3.20.0)\n",
            "Requirement already satisfied: fsspec>=2023.5.0 in /usr/local/lib/python3.12/dist-packages (from huggingface-hub<2.0,>=0.16.4->tokenizers>=0.20.3->crewai) (2025.3.0)\n",
            "Requirement already satisfied: hf-xet<2.0.0,>=1.1.3 in /usr/local/lib/python3.12/dist-packages (from huggingface-hub<2.0,>=0.16.4->tokenizers>=0.20.3->crewai) (1.1.10)\n",
            "Requirement already satisfied: zipp>=3.20 in /usr/local/lib/python3.12/dist-packages (from importlib-metadata<8.8.0,>=6.0->opentelemetry-api>=1.30.0->crewai) (3.23.0)\n",
            "Requirement already satisfied: setuptools>=18.5 in /usr/local/lib/python3.12/dist-packages (from ipython>=5.3.0->pyvis>=0.3.2->crewai) (75.2.0)\n",
            "Requirement already satisfied: jedi>=0.16 in /usr/local/lib/python3.12/dist-packages (from ipython>=5.3.0->pyvis>=0.3.2->crewai) (0.19.2)\n",
            "Requirement already satisfied: decorator in /usr/local/lib/python3.12/dist-packages (from ipython>=5.3.0->pyvis>=0.3.2->crewai) (4.4.2)\n",
            "Requirement already satisfied: pickleshare in /usr/local/lib/python3.12/dist-packages (from ipython>=5.3.0->pyvis>=0.3.2->crewai) (0.7.5)\n",
            "Requirement already satisfied: traitlets>=4.2 in /usr/local/lib/python3.12/dist-packages (from ipython>=5.3.0->pyvis>=0.3.2->crewai) (5.7.1)\n",
            "Requirement already satisfied: prompt-toolkit!=3.0.0,!=3.0.1,<3.1.0,>=2.0.0 in /usr/local/lib/python3.12/dist-packages (from ipython>=5.3.0->pyvis>=0.3.2->crewai) (3.0.52)\n",
            "Requirement already satisfied: pygments in /usr/local/lib/python3.12/dist-packages (from ipython>=5.3.0->pyvis>=0.3.2->crewai) (2.19.2)\n",
            "Requirement already satisfied: backcall in /usr/local/lib/python3.12/dist-packages (from ipython>=5.3.0->pyvis>=0.3.2->crewai) (0.2.0)\n",
            "Requirement already satisfied: matplotlib-inline in /usr/local/lib/python3.12/dist-packages (from ipython>=5.3.0->pyvis>=0.3.2->crewai) (0.1.7)\n",
            "Requirement already satisfied: pexpect>4.3 in /usr/local/lib/python3.12/dist-packages (from ipython>=5.3.0->pyvis>=0.3.2->crewai) (4.9.0)\n",
            "Requirement already satisfied: MarkupSafe>=2.0 in /usr/local/lib/python3.12/dist-packages (from jinja2<4.0.0,>=3.1.4->instructor>=1.3.3->crewai) (3.0.3)\n",
            "Requirement already satisfied: jsonschema-specifications>=2023.03.6 in /usr/local/lib/python3.12/dist-packages (from jsonschema>=4.19.0->chromadb~=1.1.0->crewai) (2025.9.1)\n",
            "Requirement already satisfied: referencing>=0.28.4 in /usr/local/lib/python3.12/dist-packages (from jsonschema>=4.19.0->chromadb~=1.1.0->crewai) (0.37.0)\n",
            "Requirement already satisfied: rpds-py>=0.7.1 in /usr/local/lib/python3.12/dist-packages (from jsonschema>=4.19.0->chromadb~=1.1.0->crewai) (0.27.1)\n",
            "Requirement already satisfied: six>=1.9.0 in /usr/local/lib/python3.12/dist-packages (from kubernetes>=28.1.0->chromadb~=1.1.0->crewai) (1.17.0)\n",
            "Requirement already satisfied: python-dateutil>=2.5.3 in /usr/local/lib/python3.12/dist-packages (from kubernetes>=28.1.0->chromadb~=1.1.0->crewai) (2.9.0.post0)\n",
            "Requirement already satisfied: google-auth>=1.0.1 in /usr/local/lib/python3.12/dist-packages (from kubernetes>=28.1.0->chromadb~=1.1.0->crewai) (2.38.0)\n",
            "Requirement already satisfied: websocket-client!=0.40.0,!=0.41.*,!=0.42.*,>=0.32.0 in /usr/local/lib/python3.12/dist-packages (from kubernetes>=28.1.0->chromadb~=1.1.0->crewai) (1.9.0)\n",
            "Requirement already satisfied: requests-oauthlib in /usr/local/lib/python3.12/dist-packages (from kubernetes>=28.1.0->chromadb~=1.1.0->crewai) (2.0.0)\n",
            "Requirement already satisfied: urllib3<2.4.0,>=1.24.2 in /usr/local/lib/python3.12/dist-packages (from kubernetes>=28.1.0->chromadb~=1.1.0->crewai) (2.3.0)\n",
            "Requirement already satisfied: durationpy>=0.7 in /usr/local/lib/python3.12/dist-packages (from kubernetes>=28.1.0->chromadb~=1.1.0->crewai) (0.10)\n",
            "Requirement already satisfied: coloredlogs in /usr/local/lib/python3.12/dist-packages (from onnxruntime>=1.14.1->chromadb~=1.1.0->crewai) (15.0.1)\n",
            "Requirement already satisfied: flatbuffers in /usr/local/lib/python3.12/dist-packages (from onnxruntime>=1.14.1->chromadb~=1.1.0->crewai) (25.9.23)\n",
            "Requirement already satisfied: sympy in /usr/local/lib/python3.12/dist-packages (from onnxruntime>=1.14.1->chromadb~=1.1.0->crewai) (1.13.3)\n",
            "Requirement already satisfied: backoff>=1.10.0 in /usr/local/lib/python3.12/dist-packages (from posthog<6.0.0,>=2.4.0->chromadb~=1.1.0->crewai) (2.2.1)\n",
            "Requirement already satisfied: cfgv>=2.0.0 in /usr/local/lib/python3.12/dist-packages (from pre-commit>=4.3.0->instructor>=1.3.3->crewai) (3.4.0)\n",
            "Requirement already satisfied: identify>=1.0.0 in /usr/local/lib/python3.12/dist-packages (from pre-commit>=4.3.0->instructor>=1.3.3->crewai) (2.6.15)\n",
            "Requirement already satisfied: nodeenv>=0.11.1 in /usr/local/lib/python3.12/dist-packages (from pre-commit>=4.3.0->instructor>=1.3.3->crewai) (1.9.1)\n",
            "Requirement already satisfied: virtualenv>=20.10.0 in /usr/local/lib/python3.12/dist-packages (from pre-commit>=4.3.0->instructor>=1.3.3->crewai) (20.35.3)\n",
            "Requirement already satisfied: markdown-it-py>=2.2.0 in /usr/local/lib/python3.12/dist-packages (from rich>=10.11.0->chromadb~=1.1.0->crewai) (4.0.0)\n",
            "Requirement already satisfied: shellingham>=1.3.0 in /usr/local/lib/python3.12/dist-packages (from typer>=0.9.0->chromadb~=1.1.0->crewai) (1.5.4)\n",
            "Requirement already satisfied: httptools>=0.6.3 in /usr/local/lib/python3.12/dist-packages (from uvicorn[standard]>=0.18.3->chromadb~=1.1.0->crewai) (0.7.1)\n",
            "Requirement already satisfied: uvloop>=0.15.1 in /usr/local/lib/python3.12/dist-packages (from uvicorn[standard]>=0.18.3->chromadb~=1.1.0->crewai) (0.22.1)\n",
            "Requirement already satisfied: watchfiles>=0.13 in /usr/local/lib/python3.12/dist-packages (from uvicorn[standard]>=0.18.3->chromadb~=1.1.0->crewai) (1.1.1)\n",
            "Requirement already satisfied: websockets>=10.4 in /usr/local/lib/python3.12/dist-packages (from uvicorn[standard]>=0.18.3->chromadb~=1.1.0->crewai) (15.0.1)\n",
            "Requirement already satisfied: cffi>=1.12 in /usr/local/lib/python3.12/dist-packages (from cryptography>=36.0.0->pdfminer.six==20250506->pdfplumber>=0.11.4->crewai) (2.0.0)\n",
            "Requirement already satisfied: cachetools<6.0,>=2.0.0 in /usr/local/lib/python3.12/dist-packages (from google-auth>=1.0.1->kubernetes>=28.1.0->chromadb~=1.1.0->crewai) (5.5.2)\n",
            "Requirement already satisfied: pyasn1-modules>=0.2.1 in /usr/local/lib/python3.12/dist-packages (from google-auth>=1.0.1->kubernetes>=28.1.0->chromadb~=1.1.0->crewai) (0.4.2)\n",
            "Requirement already satisfied: rsa<5,>=3.1.4 in /usr/local/lib/python3.12/dist-packages (from google-auth>=1.0.1->kubernetes>=28.1.0->chromadb~=1.1.0->crewai) (4.9.1)\n",
            "Requirement already satisfied: parso<0.9.0,>=0.8.4 in /usr/local/lib/python3.12/dist-packages (from jedi>=0.16->ipython>=5.3.0->pyvis>=0.3.2->crewai) (0.8.5)\n",
            "Requirement already satisfied: mdurl~=0.1 in /usr/local/lib/python3.12/dist-packages (from markdown-it-py>=2.2.0->rich>=10.11.0->chromadb~=1.1.0->crewai) (0.1.2)\n",
            "Requirement already satisfied: ptyprocess>=0.5 in /usr/local/lib/python3.12/dist-packages (from pexpect>4.3->ipython>=5.3.0->pyvis>=0.3.2->crewai) (0.7.0)\n",
            "Requirement already satisfied: wcwidth in /usr/local/lib/python3.12/dist-packages (from prompt-toolkit!=3.0.0,!=3.0.1,<3.1.0,>=2.0.0->ipython>=5.3.0->pyvis>=0.3.2->crewai) (0.2.14)\n",
            "Requirement already satisfied: distlib<1,>=0.3.7 in /usr/local/lib/python3.12/dist-packages (from virtualenv>=20.10.0->pre-commit>=4.3.0->instructor>=1.3.3->crewai) (0.4.0)\n",
            "Requirement already satisfied: platformdirs<5,>=3.9.1 in /usr/local/lib/python3.12/dist-packages (from virtualenv>=20.10.0->pre-commit>=4.3.0->instructor>=1.3.3->crewai) (4.5.0)\n",
            "Requirement already satisfied: humanfriendly>=9.1 in /usr/local/lib/python3.12/dist-packages (from coloredlogs->onnxruntime>=1.14.1->chromadb~=1.1.0->crewai) (10.0)\n",
            "Requirement already satisfied: oauthlib>=3.0.0 in /usr/local/lib/python3.12/dist-packages (from requests-oauthlib->kubernetes>=28.1.0->chromadb~=1.1.0->crewai) (3.3.1)\n",
            "Requirement already satisfied: mpmath<1.4,>=1.1.0 in /usr/local/lib/python3.12/dist-packages (from sympy->onnxruntime>=1.14.1->chromadb~=1.1.0->crewai) (1.3.0)\n",
            "Requirement already satisfied: pycparser in /usr/local/lib/python3.12/dist-packages (from cffi>=1.12->cryptography>=36.0.0->pdfminer.six==20250506->pdfplumber>=0.11.4->crewai) (2.23)\n",
            "Requirement already satisfied: pyasn1<0.7.0,>=0.6.1 in /usr/local/lib/python3.12/dist-packages (from pyasn1-modules>=0.2.1->google-auth>=1.0.1->kubernetes>=28.1.0->chromadb~=1.1.0->crewai) (0.6.1)\n",
            "Requirement already satisfied: crewai_tools in /usr/local/lib/python3.12/dist-packages (1.2.1)\n",
            "Requirement already satisfied: beautifulsoup4>=4.13.4 in /usr/local/lib/python3.12/dist-packages (from crewai_tools) (4.13.5)\n",
            "Requirement already satisfied: crewai==1.2.1 in /usr/local/lib/python3.12/dist-packages (from crewai_tools) (1.2.1)\n",
            "Requirement already satisfied: docker>=7.1.0 in /usr/local/lib/python3.12/dist-packages (from crewai_tools) (7.1.0)\n",
            "Requirement already satisfied: lancedb>=0.5.4 in /usr/local/lib/python3.12/dist-packages (from crewai_tools) (0.25.2)\n",
            "Requirement already satisfied: pypdf>=5.9.0 in /usr/local/lib/python3.12/dist-packages (from crewai_tools) (6.1.3)\n",
            "Requirement already satisfied: python-docx>=1.2.0 in /usr/local/lib/python3.12/dist-packages (from crewai_tools) (1.2.0)\n",
            "Requirement already satisfied: pytube>=15.0.0 in /usr/local/lib/python3.12/dist-packages (from crewai_tools) (15.0.0)\n",
            "Requirement already satisfied: requests>=2.32.5 in /usr/local/lib/python3.12/dist-packages (from crewai_tools) (2.32.5)\n",
            "Requirement already satisfied: tiktoken>=0.8.0 in /usr/local/lib/python3.12/dist-packages (from crewai_tools) (0.12.0)\n",
            "Requirement already satisfied: youtube-transcript-api>=1.2.2 in /usr/local/lib/python3.12/dist-packages (from crewai_tools) (1.2.3)\n",
            "Requirement already satisfied: appdirs>=1.4.4 in /usr/local/lib/python3.12/dist-packages (from crewai==1.2.1->crewai_tools) (1.4.4)\n",
            "Requirement already satisfied: chromadb~=1.1.0 in /usr/local/lib/python3.12/dist-packages (from crewai==1.2.1->crewai_tools) (1.1.1)\n",
            "Requirement already satisfied: click>=8.1.7 in /usr/local/lib/python3.12/dist-packages (from crewai==1.2.1->crewai_tools) (8.3.0)\n",
            "Requirement already satisfied: instructor>=1.3.3 in /usr/local/lib/python3.12/dist-packages (from crewai==1.2.1->crewai_tools) (1.12.0)\n",
            "Requirement already satisfied: json-repair==0.25.2 in /usr/local/lib/python3.12/dist-packages (from crewai==1.2.1->crewai_tools) (0.25.2)\n",
            "Requirement already satisfied: json5>=0.10.0 in /usr/local/lib/python3.12/dist-packages (from crewai==1.2.1->crewai_tools) (0.12.1)\n",
            "Requirement already satisfied: jsonref>=1.1.0 in /usr/local/lib/python3.12/dist-packages (from crewai==1.2.1->crewai_tools) (1.1.0)\n",
            "Requirement already satisfied: mcp>=1.16.0 in /usr/local/lib/python3.12/dist-packages (from crewai==1.2.1->crewai_tools) (1.18.0)\n",
            "Requirement already satisfied: openai>=1.13.3 in /usr/local/lib/python3.12/dist-packages (from crewai==1.2.1->crewai_tools) (1.109.1)\n",
            "Requirement already satisfied: openpyxl>=3.1.5 in /usr/local/lib/python3.12/dist-packages (from crewai==1.2.1->crewai_tools) (3.1.5)\n",
            "Requirement already satisfied: opentelemetry-api>=1.30.0 in /usr/local/lib/python3.12/dist-packages (from crewai==1.2.1->crewai_tools) (1.37.0)\n",
            "Requirement already satisfied: opentelemetry-exporter-otlp-proto-http>=1.30.0 in /usr/local/lib/python3.12/dist-packages (from crewai==1.2.1->crewai_tools) (1.37.0)\n",
            "Requirement already satisfied: opentelemetry-sdk>=1.30.0 in /usr/local/lib/python3.12/dist-packages (from crewai==1.2.1->crewai_tools) (1.37.0)\n",
            "Requirement already satisfied: pdfplumber>=0.11.4 in /usr/local/lib/python3.12/dist-packages (from crewai==1.2.1->crewai_tools) (0.11.7)\n",
            "Requirement already satisfied: portalocker==2.7.0 in /usr/local/lib/python3.12/dist-packages (from crewai==1.2.1->crewai_tools) (2.7.0)\n",
            "Requirement already satisfied: pydantic-settings>=2.10.1 in /usr/local/lib/python3.12/dist-packages (from crewai==1.2.1->crewai_tools) (2.11.0)\n",
            "Requirement already satisfied: pydantic>=2.11.9 in /usr/local/lib/python3.12/dist-packages (from crewai==1.2.1->crewai_tools) (2.11.10)\n",
            "Requirement already satisfied: pyjwt>=2.9.0 in /usr/local/lib/python3.12/dist-packages (from crewai==1.2.1->crewai_tools) (2.10.1)\n",
            "Requirement already satisfied: python-dotenv>=1.1.1 in /usr/local/lib/python3.12/dist-packages (from crewai==1.2.1->crewai_tools) (1.1.1)\n",
            "Requirement already satisfied: pyvis>=0.3.2 in /usr/local/lib/python3.12/dist-packages (from crewai==1.2.1->crewai_tools) (0.3.2)\n",
            "Requirement already satisfied: regex>=2024.9.11 in /usr/local/lib/python3.12/dist-packages (from crewai==1.2.1->crewai_tools) (2024.11.6)\n",
            "Requirement already satisfied: tokenizers>=0.20.3 in /usr/local/lib/python3.12/dist-packages (from crewai==1.2.1->crewai_tools) (0.22.1)\n",
            "Requirement already satisfied: tomli-w>=1.1.0 in /usr/local/lib/python3.12/dist-packages (from crewai==1.2.1->crewai_tools) (1.2.0)\n",
            "Requirement already satisfied: tomli>=2.0.2 in /usr/local/lib/python3.12/dist-packages (from crewai==1.2.1->crewai_tools) (2.3.0)\n",
            "Requirement already satisfied: uv>=0.4.25 in /usr/local/lib/python3.12/dist-packages (from crewai==1.2.1->crewai_tools) (0.9.5)\n",
            "Requirement already satisfied: soupsieve>1.2 in /usr/local/lib/python3.12/dist-packages (from beautifulsoup4>=4.13.4->crewai_tools) (2.8)\n",
            "Requirement already satisfied: typing-extensions>=4.0.0 in /usr/local/lib/python3.12/dist-packages (from beautifulsoup4>=4.13.4->crewai_tools) (4.15.0)\n",
            "Requirement already satisfied: urllib3>=1.26.0 in /usr/local/lib/python3.12/dist-packages (from docker>=7.1.0->crewai_tools) (2.3.0)\n",
            "Requirement already satisfied: deprecation in /usr/local/lib/python3.12/dist-packages (from lancedb>=0.5.4->crewai_tools) (2.1.0)\n",
            "Requirement already satisfied: numpy in /usr/local/lib/python3.12/dist-packages (from lancedb>=0.5.4->crewai_tools) (2.0.2)\n",
            "Requirement already satisfied: packaging in /usr/local/lib/python3.12/dist-packages (from lancedb>=0.5.4->crewai_tools) (25.0)\n",
            "Requirement already satisfied: pyarrow>=16 in /usr/local/lib/python3.12/dist-packages (from lancedb>=0.5.4->crewai_tools) (18.1.0)\n",
            "Requirement already satisfied: tqdm>=4.27.0 in /usr/local/lib/python3.12/dist-packages (from lancedb>=0.5.4->crewai_tools) (4.67.1)\n",
            "Requirement already satisfied: lance-namespace>=0.0.16 in /usr/local/lib/python3.12/dist-packages (from lancedb>=0.5.4->crewai_tools) (0.0.20)\n",
            "Requirement already satisfied: lxml>=3.1.0 in /usr/local/lib/python3.12/dist-packages (from python-docx>=1.2.0->crewai_tools) (5.4.0)\n",
            "Requirement already satisfied: charset_normalizer<4,>=2 in /usr/local/lib/python3.12/dist-packages (from requests>=2.32.5->crewai_tools) (3.4.4)\n",
            "Requirement already satisfied: idna<4,>=2.5 in /usr/local/lib/python3.12/dist-packages (from requests>=2.32.5->crewai_tools) (3.11)\n",
            "Requirement already satisfied: certifi>=2017.4.17 in /usr/local/lib/python3.12/dist-packages (from requests>=2.32.5->crewai_tools) (2025.10.5)\n",
            "Requirement already satisfied: defusedxml<0.8.0,>=0.7.1 in /usr/local/lib/python3.12/dist-packages (from youtube-transcript-api>=1.2.2->crewai_tools) (0.7.1)\n",
            "Requirement already satisfied: build>=1.0.3 in /usr/local/lib/python3.12/dist-packages (from chromadb~=1.1.0->crewai==1.2.1->crewai_tools) (1.3.0)\n",
            "Requirement already satisfied: pybase64>=1.4.1 in /usr/local/lib/python3.12/dist-packages (from chromadb~=1.1.0->crewai==1.2.1->crewai_tools) (1.4.2)\n",
            "Requirement already satisfied: uvicorn>=0.18.3 in /usr/local/lib/python3.12/dist-packages (from uvicorn[standard]>=0.18.3->chromadb~=1.1.0->crewai==1.2.1->crewai_tools) (0.38.0)\n",
            "Requirement already satisfied: posthog<6.0.0,>=2.4.0 in /usr/local/lib/python3.12/dist-packages (from chromadb~=1.1.0->crewai==1.2.1->crewai_tools) (5.4.0)\n",
            "Requirement already satisfied: onnxruntime>=1.14.1 in /usr/local/lib/python3.12/dist-packages (from chromadb~=1.1.0->crewai==1.2.1->crewai_tools) (1.23.2)\n",
            "Requirement already satisfied: opentelemetry-exporter-otlp-proto-grpc>=1.2.0 in /usr/local/lib/python3.12/dist-packages (from chromadb~=1.1.0->crewai==1.2.1->crewai_tools) (1.37.0)\n",
            "Requirement already satisfied: pypika>=0.48.9 in /usr/local/lib/python3.12/dist-packages (from chromadb~=1.1.0->crewai==1.2.1->crewai_tools) (0.48.9)\n",
            "Requirement already satisfied: overrides>=7.3.1 in /usr/local/lib/python3.12/dist-packages (from chromadb~=1.1.0->crewai==1.2.1->crewai_tools) (7.7.0)\n",
            "Requirement already satisfied: importlib-resources in /usr/local/lib/python3.12/dist-packages (from chromadb~=1.1.0->crewai==1.2.1->crewai_tools) (6.5.2)\n",
            "Requirement already satisfied: grpcio>=1.58.0 in /usr/local/lib/python3.12/dist-packages (from chromadb~=1.1.0->crewai==1.2.1->crewai_tools) (1.75.1)\n",
            "Requirement already satisfied: bcrypt>=4.0.1 in /usr/local/lib/python3.12/dist-packages (from chromadb~=1.1.0->crewai==1.2.1->crewai_tools) (5.0.0)\n",
            "Requirement already satisfied: typer>=0.9.0 in /usr/local/lib/python3.12/dist-packages (from chromadb~=1.1.0->crewai==1.2.1->crewai_tools) (0.20.0)\n",
            "Requirement already satisfied: kubernetes>=28.1.0 in /usr/local/lib/python3.12/dist-packages (from chromadb~=1.1.0->crewai==1.2.1->crewai_tools) (34.1.0)\n",
            "Requirement already satisfied: tenacity>=8.2.3 in /usr/local/lib/python3.12/dist-packages (from chromadb~=1.1.0->crewai==1.2.1->crewai_tools) (8.5.0)\n",
            "Requirement already satisfied: pyyaml>=6.0.0 in /usr/local/lib/python3.12/dist-packages (from chromadb~=1.1.0->crewai==1.2.1->crewai_tools) (6.0.3)\n",
            "Requirement already satisfied: mmh3>=4.0.1 in /usr/local/lib/python3.12/dist-packages (from chromadb~=1.1.0->crewai==1.2.1->crewai_tools) (5.2.0)\n",
            "Requirement already satisfied: orjson>=3.9.12 in /usr/local/lib/python3.12/dist-packages (from chromadb~=1.1.0->crewai==1.2.1->crewai_tools) (3.11.3)\n",
            "Requirement already satisfied: httpx>=0.27.0 in /usr/local/lib/python3.12/dist-packages (from chromadb~=1.1.0->crewai==1.2.1->crewai_tools) (0.28.1)\n",
            "Requirement already satisfied: rich>=10.11.0 in /usr/local/lib/python3.12/dist-packages (from chromadb~=1.1.0->crewai==1.2.1->crewai_tools) (13.9.4)\n",
            "Requirement already satisfied: jsonschema>=4.19.0 in /usr/local/lib/python3.12/dist-packages (from chromadb~=1.1.0->crewai==1.2.1->crewai_tools) (4.25.1)\n",
            "Requirement already satisfied: aiohttp<4.0.0,>=3.9.1 in /usr/local/lib/python3.12/dist-packages (from instructor>=1.3.3->crewai==1.2.1->crewai_tools) (3.13.1)\n",
            "Requirement already satisfied: diskcache>=5.6.3 in /usr/local/lib/python3.12/dist-packages (from instructor>=1.3.3->crewai==1.2.1->crewai_tools) (5.6.3)\n",
            "Requirement already satisfied: docstring-parser<1.0,>=0.16 in /usr/local/lib/python3.12/dist-packages (from instructor>=1.3.3->crewai==1.2.1->crewai_tools) (0.17.0)\n",
            "Requirement already satisfied: jinja2<4.0.0,>=3.1.4 in /usr/local/lib/python3.12/dist-packages (from instructor>=1.3.3->crewai==1.2.1->crewai_tools) (3.1.6)\n",
            "Requirement already satisfied: jiter<0.11,>=0.6.1 in /usr/local/lib/python3.12/dist-packages (from instructor>=1.3.3->crewai==1.2.1->crewai_tools) (0.10.0)\n",
            "Requirement already satisfied: pre-commit>=4.3.0 in /usr/local/lib/python3.12/dist-packages (from instructor>=1.3.3->crewai==1.2.1->crewai_tools) (4.3.0)\n",
            "Requirement already satisfied: pydantic-core<3.0.0,>=2.18.0 in /usr/local/lib/python3.12/dist-packages (from instructor>=1.3.3->crewai==1.2.1->crewai_tools) (2.33.2)\n",
            "Requirement already satisfied: lance-namespace-urllib3-client in /usr/local/lib/python3.12/dist-packages (from lance-namespace>=0.0.16->lancedb>=0.5.4->crewai_tools) (0.0.20)\n",
            "Requirement already satisfied: pylance>=0.18.0 in /usr/local/lib/python3.12/dist-packages (from lance-namespace>=0.0.16->lancedb>=0.5.4->crewai_tools) (0.38.2)\n",
            "Requirement already satisfied: anyio>=4.5 in /usr/local/lib/python3.12/dist-packages (from mcp>=1.16.0->crewai==1.2.1->crewai_tools) (4.11.0)\n",
            "Requirement already satisfied: httpx-sse>=0.4 in /usr/local/lib/python3.12/dist-packages (from mcp>=1.16.0->crewai==1.2.1->crewai_tools) (0.4.3)\n",
            "Requirement already satisfied: python-multipart>=0.0.9 in /usr/local/lib/python3.12/dist-packages (from mcp>=1.16.0->crewai==1.2.1->crewai_tools) (0.0.20)\n",
            "Requirement already satisfied: sse-starlette>=1.6.1 in /usr/local/lib/python3.12/dist-packages (from mcp>=1.16.0->crewai==1.2.1->crewai_tools) (3.0.2)\n",
            "Requirement already satisfied: starlette>=0.27 in /usr/local/lib/python3.12/dist-packages (from mcp>=1.16.0->crewai==1.2.1->crewai_tools) (0.48.0)\n",
            "Requirement already satisfied: distro<2,>=1.7.0 in /usr/local/lib/python3.12/dist-packages (from openai>=1.13.3->crewai==1.2.1->crewai_tools) (1.9.0)\n",
            "Requirement already satisfied: sniffio in /usr/local/lib/python3.12/dist-packages (from openai>=1.13.3->crewai==1.2.1->crewai_tools) (1.3.1)\n",
            "Requirement already satisfied: et-xmlfile in /usr/local/lib/python3.12/dist-packages (from openpyxl>=3.1.5->crewai==1.2.1->crewai_tools) (2.0.0)\n",
            "Requirement already satisfied: importlib-metadata<8.8.0,>=6.0 in /usr/local/lib/python3.12/dist-packages (from opentelemetry-api>=1.30.0->crewai==1.2.1->crewai_tools) (8.7.0)\n",
            "Requirement already satisfied: googleapis-common-protos~=1.52 in /usr/local/lib/python3.12/dist-packages (from opentelemetry-exporter-otlp-proto-http>=1.30.0->crewai==1.2.1->crewai_tools) (1.71.0)\n",
            "Requirement already satisfied: opentelemetry-exporter-otlp-proto-common==1.37.0 in /usr/local/lib/python3.12/dist-packages (from opentelemetry-exporter-otlp-proto-http>=1.30.0->crewai==1.2.1->crewai_tools) (1.37.0)\n",
            "Requirement already satisfied: opentelemetry-proto==1.37.0 in /usr/local/lib/python3.12/dist-packages (from opentelemetry-exporter-otlp-proto-http>=1.30.0->crewai==1.2.1->crewai_tools) (1.37.0)\n",
            "Requirement already satisfied: protobuf<7.0,>=5.0 in /usr/local/lib/python3.12/dist-packages (from opentelemetry-proto==1.37.0->opentelemetry-exporter-otlp-proto-http>=1.30.0->crewai==1.2.1->crewai_tools) (5.29.5)\n",
            "Requirement already satisfied: opentelemetry-semantic-conventions==0.58b0 in /usr/local/lib/python3.12/dist-packages (from opentelemetry-sdk>=1.30.0->crewai==1.2.1->crewai_tools) (0.58b0)\n",
            "Requirement already satisfied: pdfminer.six==20250506 in /usr/local/lib/python3.12/dist-packages (from pdfplumber>=0.11.4->crewai==1.2.1->crewai_tools) (20250506)\n",
            "Requirement already satisfied: Pillow>=9.1 in /usr/local/lib/python3.12/dist-packages (from pdfplumber>=0.11.4->crewai==1.2.1->crewai_tools) (11.3.0)\n",
            "Requirement already satisfied: pypdfium2>=4.18.0 in /usr/local/lib/python3.12/dist-packages (from pdfplumber>=0.11.4->crewai==1.2.1->crewai_tools) (5.0.0)\n",
            "Requirement already satisfied: cryptography>=36.0.0 in /usr/local/lib/python3.12/dist-packages (from pdfminer.six==20250506->pdfplumber>=0.11.4->crewai==1.2.1->crewai_tools) (43.0.3)\n",
            "Requirement already satisfied: annotated-types>=0.6.0 in /usr/local/lib/python3.12/dist-packages (from pydantic>=2.11.9->crewai==1.2.1->crewai_tools) (0.7.0)\n",
            "Requirement already satisfied: typing-inspection>=0.4.0 in /usr/local/lib/python3.12/dist-packages (from pydantic>=2.11.9->crewai==1.2.1->crewai_tools) (0.4.2)\n",
            "Requirement already satisfied: ipython>=5.3.0 in /usr/local/lib/python3.12/dist-packages (from pyvis>=0.3.2->crewai==1.2.1->crewai_tools) (7.34.0)\n",
            "Requirement already satisfied: jsonpickle>=1.4.1 in /usr/local/lib/python3.12/dist-packages (from pyvis>=0.3.2->crewai==1.2.1->crewai_tools) (4.1.1)\n",
            "Requirement already satisfied: networkx>=1.11 in /usr/local/lib/python3.12/dist-packages (from pyvis>=0.3.2->crewai==1.2.1->crewai_tools) (3.5)\n",
            "Requirement already satisfied: huggingface-hub<2.0,>=0.16.4 in /usr/local/lib/python3.12/dist-packages (from tokenizers>=0.20.3->crewai==1.2.1->crewai_tools) (0.35.3)\n",
            "Requirement already satisfied: aiohappyeyeballs>=2.5.0 in /usr/local/lib/python3.12/dist-packages (from aiohttp<4.0.0,>=3.9.1->instructor>=1.3.3->crewai==1.2.1->crewai_tools) (2.6.1)\n",
            "Requirement already satisfied: aiosignal>=1.4.0 in /usr/local/lib/python3.12/dist-packages (from aiohttp<4.0.0,>=3.9.1->instructor>=1.3.3->crewai==1.2.1->crewai_tools) (1.4.0)\n",
            "Requirement already satisfied: attrs>=17.3.0 in /usr/local/lib/python3.12/dist-packages (from aiohttp<4.0.0,>=3.9.1->instructor>=1.3.3->crewai==1.2.1->crewai_tools) (25.4.0)\n",
            "Requirement already satisfied: frozenlist>=1.1.1 in /usr/local/lib/python3.12/dist-packages (from aiohttp<4.0.0,>=3.9.1->instructor>=1.3.3->crewai==1.2.1->crewai_tools) (1.8.0)\n",
            "Requirement already satisfied: multidict<7.0,>=4.5 in /usr/local/lib/python3.12/dist-packages (from aiohttp<4.0.0,>=3.9.1->instructor>=1.3.3->crewai==1.2.1->crewai_tools) (6.7.0)\n",
            "Requirement already satisfied: propcache>=0.2.0 in /usr/local/lib/python3.12/dist-packages (from aiohttp<4.0.0,>=3.9.1->instructor>=1.3.3->crewai==1.2.1->crewai_tools) (0.4.1)\n",
            "Requirement already satisfied: yarl<2.0,>=1.17.0 in /usr/local/lib/python3.12/dist-packages (from aiohttp<4.0.0,>=3.9.1->instructor>=1.3.3->crewai==1.2.1->crewai_tools) (1.22.0)\n",
            "Requirement already satisfied: pyproject_hooks in /usr/local/lib/python3.12/dist-packages (from build>=1.0.3->chromadb~=1.1.0->crewai==1.2.1->crewai_tools) (1.2.0)\n",
            "Requirement already satisfied: httpcore==1.* in /usr/local/lib/python3.12/dist-packages (from httpx>=0.27.0->chromadb~=1.1.0->crewai==1.2.1->crewai_tools) (1.0.9)\n",
            "Requirement already satisfied: h11>=0.16 in /usr/local/lib/python3.12/dist-packages (from httpcore==1.*->httpx>=0.27.0->chromadb~=1.1.0->crewai==1.2.1->crewai_tools) (0.16.0)\n",
            "Requirement already satisfied: filelock in /usr/local/lib/python3.12/dist-packages (from huggingface-hub<2.0,>=0.16.4->tokenizers>=0.20.3->crewai==1.2.1->crewai_tools) (3.20.0)\n",
            "Requirement already satisfied: fsspec>=2023.5.0 in /usr/local/lib/python3.12/dist-packages (from huggingface-hub<2.0,>=0.16.4->tokenizers>=0.20.3->crewai==1.2.1->crewai_tools) (2025.3.0)\n",
            "Requirement already satisfied: hf-xet<2.0.0,>=1.1.3 in /usr/local/lib/python3.12/dist-packages (from huggingface-hub<2.0,>=0.16.4->tokenizers>=0.20.3->crewai==1.2.1->crewai_tools) (1.1.10)\n",
            "Requirement already satisfied: zipp>=3.20 in /usr/local/lib/python3.12/dist-packages (from importlib-metadata<8.8.0,>=6.0->opentelemetry-api>=1.30.0->crewai==1.2.1->crewai_tools) (3.23.0)\n",
            "Requirement already satisfied: setuptools>=18.5 in /usr/local/lib/python3.12/dist-packages (from ipython>=5.3.0->pyvis>=0.3.2->crewai==1.2.1->crewai_tools) (75.2.0)\n",
            "Requirement already satisfied: jedi>=0.16 in /usr/local/lib/python3.12/dist-packages (from ipython>=5.3.0->pyvis>=0.3.2->crewai==1.2.1->crewai_tools) (0.19.2)\n",
            "Requirement already satisfied: decorator in /usr/local/lib/python3.12/dist-packages (from ipython>=5.3.0->pyvis>=0.3.2->crewai==1.2.1->crewai_tools) (4.4.2)\n",
            "Requirement already satisfied: pickleshare in /usr/local/lib/python3.12/dist-packages (from ipython>=5.3.0->pyvis>=0.3.2->crewai==1.2.1->crewai_tools) (0.7.5)\n",
            "Requirement already satisfied: traitlets>=4.2 in /usr/local/lib/python3.12/dist-packages (from ipython>=5.3.0->pyvis>=0.3.2->crewai==1.2.1->crewai_tools) (5.7.1)\n",
            "Requirement already satisfied: prompt-toolkit!=3.0.0,!=3.0.1,<3.1.0,>=2.0.0 in /usr/local/lib/python3.12/dist-packages (from ipython>=5.3.0->pyvis>=0.3.2->crewai==1.2.1->crewai_tools) (3.0.52)\n",
            "Requirement already satisfied: pygments in /usr/local/lib/python3.12/dist-packages (from ipython>=5.3.0->pyvis>=0.3.2->crewai==1.2.1->crewai_tools) (2.19.2)\n",
            "Requirement already satisfied: backcall in /usr/local/lib/python3.12/dist-packages (from ipython>=5.3.0->pyvis>=0.3.2->crewai==1.2.1->crewai_tools) (0.2.0)\n",
            "Requirement already satisfied: matplotlib-inline in /usr/local/lib/python3.12/dist-packages (from ipython>=5.3.0->pyvis>=0.3.2->crewai==1.2.1->crewai_tools) (0.1.7)\n",
            "Requirement already satisfied: pexpect>4.3 in /usr/local/lib/python3.12/dist-packages (from ipython>=5.3.0->pyvis>=0.3.2->crewai==1.2.1->crewai_tools) (4.9.0)\n",
            "Requirement already satisfied: MarkupSafe>=2.0 in /usr/local/lib/python3.12/dist-packages (from jinja2<4.0.0,>=3.1.4->instructor>=1.3.3->crewai==1.2.1->crewai_tools) (3.0.3)\n",
            "Requirement already satisfied: jsonschema-specifications>=2023.03.6 in /usr/local/lib/python3.12/dist-packages (from jsonschema>=4.19.0->chromadb~=1.1.0->crewai==1.2.1->crewai_tools) (2025.9.1)\n",
            "Requirement already satisfied: referencing>=0.28.4 in /usr/local/lib/python3.12/dist-packages (from jsonschema>=4.19.0->chromadb~=1.1.0->crewai==1.2.1->crewai_tools) (0.37.0)\n",
            "Requirement already satisfied: rpds-py>=0.7.1 in /usr/local/lib/python3.12/dist-packages (from jsonschema>=4.19.0->chromadb~=1.1.0->crewai==1.2.1->crewai_tools) (0.27.1)\n",
            "Requirement already satisfied: six>=1.9.0 in /usr/local/lib/python3.12/dist-packages (from kubernetes>=28.1.0->chromadb~=1.1.0->crewai==1.2.1->crewai_tools) (1.17.0)\n",
            "Requirement already satisfied: python-dateutil>=2.5.3 in /usr/local/lib/python3.12/dist-packages (from kubernetes>=28.1.0->chromadb~=1.1.0->crewai==1.2.1->crewai_tools) (2.9.0.post0)\n",
            "Requirement already satisfied: google-auth>=1.0.1 in /usr/local/lib/python3.12/dist-packages (from kubernetes>=28.1.0->chromadb~=1.1.0->crewai==1.2.1->crewai_tools) (2.38.0)\n",
            "Requirement already satisfied: websocket-client!=0.40.0,!=0.41.*,!=0.42.*,>=0.32.0 in /usr/local/lib/python3.12/dist-packages (from kubernetes>=28.1.0->chromadb~=1.1.0->crewai==1.2.1->crewai_tools) (1.9.0)\n",
            "Requirement already satisfied: requests-oauthlib in /usr/local/lib/python3.12/dist-packages (from kubernetes>=28.1.0->chromadb~=1.1.0->crewai==1.2.1->crewai_tools) (2.0.0)\n",
            "Requirement already satisfied: durationpy>=0.7 in /usr/local/lib/python3.12/dist-packages (from kubernetes>=28.1.0->chromadb~=1.1.0->crewai==1.2.1->crewai_tools) (0.10)\n",
            "Requirement already satisfied: coloredlogs in /usr/local/lib/python3.12/dist-packages (from onnxruntime>=1.14.1->chromadb~=1.1.0->crewai==1.2.1->crewai_tools) (15.0.1)\n",
            "Requirement already satisfied: flatbuffers in /usr/local/lib/python3.12/dist-packages (from onnxruntime>=1.14.1->chromadb~=1.1.0->crewai==1.2.1->crewai_tools) (25.9.23)\n",
            "Requirement already satisfied: sympy in /usr/local/lib/python3.12/dist-packages (from onnxruntime>=1.14.1->chromadb~=1.1.0->crewai==1.2.1->crewai_tools) (1.13.3)\n",
            "Requirement already satisfied: backoff>=1.10.0 in /usr/local/lib/python3.12/dist-packages (from posthog<6.0.0,>=2.4.0->chromadb~=1.1.0->crewai==1.2.1->crewai_tools) (2.2.1)\n",
            "Requirement already satisfied: cfgv>=2.0.0 in /usr/local/lib/python3.12/dist-packages (from pre-commit>=4.3.0->instructor>=1.3.3->crewai==1.2.1->crewai_tools) (3.4.0)\n",
            "Requirement already satisfied: identify>=1.0.0 in /usr/local/lib/python3.12/dist-packages (from pre-commit>=4.3.0->instructor>=1.3.3->crewai==1.2.1->crewai_tools) (2.6.15)\n",
            "Requirement already satisfied: nodeenv>=0.11.1 in /usr/local/lib/python3.12/dist-packages (from pre-commit>=4.3.0->instructor>=1.3.3->crewai==1.2.1->crewai_tools) (1.9.1)\n",
            "Requirement already satisfied: virtualenv>=20.10.0 in /usr/local/lib/python3.12/dist-packages (from pre-commit>=4.3.0->instructor>=1.3.3->crewai==1.2.1->crewai_tools) (20.35.3)\n",
            "Requirement already satisfied: markdown-it-py>=2.2.0 in /usr/local/lib/python3.12/dist-packages (from rich>=10.11.0->chromadb~=1.1.0->crewai==1.2.1->crewai_tools) (4.0.0)\n",
            "Requirement already satisfied: shellingham>=1.3.0 in /usr/local/lib/python3.12/dist-packages (from typer>=0.9.0->chromadb~=1.1.0->crewai==1.2.1->crewai_tools) (1.5.4)\n",
            "Requirement already satisfied: httptools>=0.6.3 in /usr/local/lib/python3.12/dist-packages (from uvicorn[standard]>=0.18.3->chromadb~=1.1.0->crewai==1.2.1->crewai_tools) (0.7.1)\n",
            "Requirement already satisfied: uvloop>=0.15.1 in /usr/local/lib/python3.12/dist-packages (from uvicorn[standard]>=0.18.3->chromadb~=1.1.0->crewai==1.2.1->crewai_tools) (0.22.1)\n",
            "Requirement already satisfied: watchfiles>=0.13 in /usr/local/lib/python3.12/dist-packages (from uvicorn[standard]>=0.18.3->chromadb~=1.1.0->crewai==1.2.1->crewai_tools) (1.1.1)\n",
            "Requirement already satisfied: websockets>=10.4 in /usr/local/lib/python3.12/dist-packages (from uvicorn[standard]>=0.18.3->chromadb~=1.1.0->crewai==1.2.1->crewai_tools) (15.0.1)\n",
            "Requirement already satisfied: cffi>=1.12 in /usr/local/lib/python3.12/dist-packages (from cryptography>=36.0.0->pdfminer.six==20250506->pdfplumber>=0.11.4->crewai==1.2.1->crewai_tools) (2.0.0)\n",
            "Requirement already satisfied: cachetools<6.0,>=2.0.0 in /usr/local/lib/python3.12/dist-packages (from google-auth>=1.0.1->kubernetes>=28.1.0->chromadb~=1.1.0->crewai==1.2.1->crewai_tools) (5.5.2)\n",
            "Requirement already satisfied: pyasn1-modules>=0.2.1 in /usr/local/lib/python3.12/dist-packages (from google-auth>=1.0.1->kubernetes>=28.1.0->chromadb~=1.1.0->crewai==1.2.1->crewai_tools) (0.4.2)\n",
            "Requirement already satisfied: rsa<5,>=3.1.4 in /usr/local/lib/python3.12/dist-packages (from google-auth>=1.0.1->kubernetes>=28.1.0->chromadb~=1.1.0->crewai==1.2.1->crewai_tools) (4.9.1)\n",
            "Requirement already satisfied: parso<0.9.0,>=0.8.4 in /usr/local/lib/python3.12/dist-packages (from jedi>=0.16->ipython>=5.3.0->pyvis>=0.3.2->crewai==1.2.1->crewai_tools) (0.8.5)\n",
            "Requirement already satisfied: mdurl~=0.1 in /usr/local/lib/python3.12/dist-packages (from markdown-it-py>=2.2.0->rich>=10.11.0->chromadb~=1.1.0->crewai==1.2.1->crewai_tools) (0.1.2)\n",
            "Requirement already satisfied: ptyprocess>=0.5 in /usr/local/lib/python3.12/dist-packages (from pexpect>4.3->ipython>=5.3.0->pyvis>=0.3.2->crewai==1.2.1->crewai_tools) (0.7.0)\n",
            "Requirement already satisfied: wcwidth in /usr/local/lib/python3.12/dist-packages (from prompt-toolkit!=3.0.0,!=3.0.1,<3.1.0,>=2.0.0->ipython>=5.3.0->pyvis>=0.3.2->crewai==1.2.1->crewai_tools) (0.2.14)\n",
            "Requirement already satisfied: distlib<1,>=0.3.7 in /usr/local/lib/python3.12/dist-packages (from virtualenv>=20.10.0->pre-commit>=4.3.0->instructor>=1.3.3->crewai==1.2.1->crewai_tools) (0.4.0)\n",
            "Requirement already satisfied: platformdirs<5,>=3.9.1 in /usr/local/lib/python3.12/dist-packages (from virtualenv>=20.10.0->pre-commit>=4.3.0->instructor>=1.3.3->crewai==1.2.1->crewai_tools) (4.5.0)\n",
            "Requirement already satisfied: humanfriendly>=9.1 in /usr/local/lib/python3.12/dist-packages (from coloredlogs->onnxruntime>=1.14.1->chromadb~=1.1.0->crewai==1.2.1->crewai_tools) (10.0)\n",
            "Requirement already satisfied: oauthlib>=3.0.0 in /usr/local/lib/python3.12/dist-packages (from requests-oauthlib->kubernetes>=28.1.0->chromadb~=1.1.0->crewai==1.2.1->crewai_tools) (3.3.1)\n",
            "Requirement already satisfied: mpmath<1.4,>=1.1.0 in /usr/local/lib/python3.12/dist-packages (from sympy->onnxruntime>=1.14.1->chromadb~=1.1.0->crewai==1.2.1->crewai_tools) (1.3.0)\n",
            "Requirement already satisfied: pycparser in /usr/local/lib/python3.12/dist-packages (from cffi>=1.12->cryptography>=36.0.0->pdfminer.six==20250506->pdfplumber>=0.11.4->crewai==1.2.1->crewai_tools) (2.23)\n",
            "Requirement already satisfied: pyasn1<0.7.0,>=0.6.1 in /usr/local/lib/python3.12/dist-packages (from pyasn1-modules>=0.2.1->google-auth>=1.0.1->kubernetes>=28.1.0->chromadb~=1.1.0->crewai==1.2.1->crewai_tools) (0.6.1)\n",
            "Requirement already satisfied: pydantic in /usr/local/lib/python3.12/dist-packages (2.11.10)\n",
            "Requirement already satisfied: annotated-types>=0.6.0 in /usr/local/lib/python3.12/dist-packages (from pydantic) (0.7.0)\n",
            "Requirement already satisfied: pydantic-core==2.33.2 in /usr/local/lib/python3.12/dist-packages (from pydantic) (2.33.2)\n",
            "Requirement already satisfied: typing-extensions>=4.12.2 in /usr/local/lib/python3.12/dist-packages (from pydantic) (4.15.0)\n",
            "Requirement already satisfied: typing-inspection>=0.4.0 in /usr/local/lib/python3.12/dist-packages (from pydantic) (0.4.2)\n",
            "/bin/bash: line 1: pp: command not found\n",
            "/bin/bash: line 1: pp: command not found\n",
            "/bin/bash: line 1: pp: command not found\n",
            "/bin/bash: line 1: pp: command not found\n"
          ]
        }
      ],
      "source": [
        "!pip install crewai\n",
        "!pip install crewai_tools\n",
        "!pip install pydantic\n",
        "!pip install -qU langchain-google-community[gmail]\n",
        "!pp install google-auth-oauthlib>=1.2.0\n",
        "!pp install langchain-google-community>=2.0.0\n",
        "!pp install google-auth>=2.20.0\n",
        "!pp install google-api-python-client>=2.100.0"
      ]
    },
    {
      "cell_type": "code",
      "execution_count": 113,
      "id": "3e10e51b",
      "metadata": {
        "vscode": {
          "languageId": "plaintext"
        },
        "id": "3e10e51b"
      },
      "outputs": [],
      "source": [
        "from crewai import Agent, Task, Crew, Process\n",
        "from crewai_tools import ScrapeWebsiteTool\n",
        "from crewai_tools import ScrapeElementFromWebsiteTool\n",
        "from langchain_google_community import GmailToolkit\n",
        "from crewai.tools import BaseTool\n",
        "from pydantic import BaseModel, Field\n",
        "from typing import Type, List\n",
        "import os\n",
        "import json"
      ]
    },
    {
      "cell_type": "code",
      "execution_count": 114,
      "id": "84189923",
      "metadata": {
        "vscode": {
          "languageId": "plaintext"
        },
        "id": "84189923"
      },
      "outputs": [],
      "source": [
        "website_url = 'https://torontowinterleague.tenniscores.com/?mod=nndz-TjJiOWtORzkwTlJFb0NVU1NzOD0%3D&team=nndz-WVNXOHhMOD0%3D'\n",
        "club_name = \"Thornhill Park Tennis Club\"\n",
        "date = \"11/09\""
      ]
    },
    {
      "cell_type": "code",
      "execution_count": 115,
      "id": "bf8b0199",
      "metadata": {
        "vscode": {
          "languageId": "plaintext"
        },
        "id": "bf8b0199"
      },
      "outputs": [],
      "source": [
        "from google.colab import userdata\n",
        "OPENAI_API_KEY = userdata.get('OPENAI_API_KEY')\n",
        "os.environ[\"OPENAI_API_KEY\"] = OPENAI_API_KEY"
      ]
    },
    {
      "cell_type": "code",
      "execution_count": 116,
      "id": "4fce118e",
      "metadata": {
        "vscode": {
          "languageId": "plaintext"
        },
        "id": "4fce118e"
      },
      "outputs": [],
      "source": [
        "scrape_tool = ScrapeElementFromWebsiteTool(website_url=website_url, css_element=\".team_schedule\")\n",
        "\n",
        "scraper_agent = Agent(\n",
        "    role=\"Web Scraper\",\n",
        "    goal=\"Extract specific information from websites\",\n",
        "    backstory=\"An expert in web scraping who can extract targeted content from web pages.\",\n",
        "    tools=[scrape_tool],\n",
        "    verbose=True,\n",
        "    llm=\"gpt-4o\"\n",
        ")\n",
        "\n",
        "scrape_task = Task(\n",
        "    description=\"Extract row from a schedule table. Use the CSS selector '.team_schedule' to target the table and find row with date = '12/07'.\",\n",
        "    expected_output=\"A list of the main headlines from CNN.\",\n",
        "    agent=scraper_agent,\n",
        ")"
      ]
    },
    {
      "cell_type": "code",
      "execution_count": 117,
      "id": "ea174cf6",
      "metadata": {
        "vscode": {
          "languageId": "plaintext"
        },
        "id": "ea174cf6"
      },
      "outputs": [],
      "source": [
        "class GetCapitanInput(BaseModel):\n",
        "    team: str = Field(..., description=\"Name of the team to lookup\")\n",
        "\n",
        "class GetCapitan(BaseTool):\n",
        "    name: str = \"get_capitan\"\n",
        "    description: str = \"Fetch capitans emails and names by team name from teams.json\"\n",
        "    args_schema: Type[BaseModel] = GetCapitanInput\n",
        "\n",
        "    def _run(self, team: str) -> List[dict]:\n",
        "        try:\n",
        "            with open(\"teams.json\", \"r\") as f:\n",
        "                data = json.load(f)\n",
        "                capitans = [entry for entry in data if entry['team'].lower() == team.lower()]\n",
        "                if not capitans:\n",
        "                    return [{\"message\": f\"No capitans for for team {team}\"}]\n",
        "                return capitans\n",
        "        except Exception as e:\n",
        "            return [{\"error\": str(e)}]\n",
        "\n",
        "capitan_tool = GetCapitan()\n",
        "\n",
        "capitan_agent = Agent(\n",
        "    role=\"Lookup email and name by team name\",\n",
        "    goal=\"Find email and name by team name\",\n",
        "    backstory=(\n",
        "        \"You can find opponet capitain email and name by team name. \"\n",
        "    ),\n",
        "    tools=[capitan_tool],\n",
        "    verbose=True,\n",
        "    llm=\"gpt-4o\"\n",
        ")\n",
        "\n",
        "capitan_task = Task(\n",
        "    description=\"Find capitains emails and name for a team by name\",\n",
        "    expected_output=\"A list of dictionaries containing the name and email of the team's capitain(s).\",\n",
        "    agent=capitan_agent,\n",
        ")"
      ]
    },
    {
      "cell_type": "code",
      "execution_count": 118,
      "id": "2058cb04",
      "metadata": {
        "vscode": {
          "languageId": "plaintext"
        },
        "id": "2058cb04"
      },
      "outputs": [],
      "source": [
        "class GetMatchEmailInput(BaseModel):\n",
        "    date: str = Field(..., description=\"Match date. For example: '2025-10-27'\")\n",
        "    time: str = Field(..., description=\"Match time. For example: '7:00pm'\")\n",
        "\n",
        "class GetMatchEmail(BaseTool):\n",
        "    name:str = \"get_match_email\"\n",
        "    description: str = \"Create an email subject and body for a match at Thornhill Park Tennis Club. Input: match_date (string), optional time.\"\n",
        "    args_schema: Type[BaseModel] = GetMatchEmailInput\n",
        "\n",
        "    def _run(self, date: str, time: str):\n",
        "        subject = f\"Match {date} {time} at {club_name}\"\n",
        "\n",
        "        body = f\"\"\"Hi Ladies,\n",
        "\n",
        "            Our teams are scheduled to play on {date} at {time} at the {club_name}.\n",
        "            The club address is 26A Old Yonge St, Thornhill, ON L4J 8C5 (at the corner of Centre St and Yonge St).\n",
        "            There’s a large parking lot near the clubhouse, but you’ll need to obtain temporary parking permits. Please pick them up from the monitor inside the clubhouse and display them on your dashboards. Additional parking is available just across Old Yonge St near the Thornhill Pub.\n",
        "            Looking forward to seeing your team tonight!\n",
        "\n",
        "            Cheers,\n",
        "            Julia Passynkova\n",
        "        \"\"\"\n",
        "        return {\"body\": body, \"subject\": subject}\n",
        "\n",
        "email_tool = GetMatchEmail()\n",
        "\n",
        "email_agent = Agent(\n",
        "    role=\"Tennis email writter\",\n",
        "    goal=\"Create draft email\",\n",
        "    backstory=(\n",
        "        \"You can create draft email for oppoonet team having subject and body. \"\n",
        "    ),\n",
        "    tools=[email_tool],\n",
        "    verbose=True,\n",
        "    llm=\"gpt-4o\"\n",
        ")\n",
        "\n",
        "email_task = Task(\n",
        "    description=\"Create draft reminder email for match.\",\n",
        "    expected_output=\"Create email body and subject.\",\n",
        "    agent=email_agent,\n",
        ")"
      ]
    },
    {
      "cell_type": "code",
      "execution_count": 119,
      "id": "78b79b75",
      "metadata": {
        "vscode": {
          "languageId": "plaintext"
        },
        "id": "78b79b75"
      },
      "outputs": [],
      "source": [
        "from langchain_google_community import GmailToolkit\n",
        "from crewai.tools import BaseTool # Import BaseTool\n",
        "import pickle\n",
        "from googleapiclient.discovery import build\n",
        "\n",
        "def get_gmail_service():\n",
        "    \"\"\"Get Gmail service with OAuth credentials.\"\"\"\n",
        "    creds = None\n",
        "    # The file token.pickle stores the user's access and refresh tokens.\n",
        "    if os.path.exists('token.pickle'):\n",
        "        with open('token.pickle', 'rb') as token:\n",
        "            creds = pickle.load(token)\n",
        "\n",
        "    service = build('gmail', 'v1', credentials=creds)\n",
        "    return service\n",
        "\n",
        "service = get_gmail_service()\n",
        "gmail_toolkit = GmailToolkit(api_resource=service)\n",
        "langchain_gmail_tools = gmail_toolkit.get_tools()"
      ]
    },
    {
      "cell_type": "code",
      "source": [
        "from langchain_google_community import GmailToolkit\n",
        "from crewai.tools import BaseTool\n",
        "from pydantic import BaseModel, Field\n",
        "from typing import Type\n",
        "\n",
        "service = get_gmail_service()\n",
        "toolkit = GmailToolkit(api_resource=service)\n",
        "langchain_gmail_tools = gmail_toolkit.get_tools()\n",
        "\n",
        "class GmailCreateDraftTool(BaseTool):\n",
        "    name: str = \"gmail_create_draft\"\n",
        "    description: str = \"Creates a draft email in Gmail.\"\n",
        "\n",
        "    def __init__(self, langchain_tool):\n",
        "        super().__init__()\n",
        "        self.langchain_tool = langchain_tool\n",
        "        self.name = langchain_tool.name\n",
        "        self.description = langchain_tool.description\n",
        "        # Assuming LangChain tool has an args_schema\n",
        "        if hasattr(langchain_tool, 'args_schema'):\n",
        "            self.args_schema = langchain_tool.args_schema\n",
        "\n",
        "\n",
        "    def _run(self, *args, **kwargs):\n",
        "        return self.langchain_tool.run(*args, **kwargs)\n",
        "\n",
        "\n",
        "tool_wrappers = {\n",
        "    \"gmail_create_draft\": GmailCreateDraftTool,\n",
        "}\n",
        "\n",
        "# Create CrewAI compatible tools using the wrapper classes\n",
        "crewai_gmail_tools = []\n",
        "for tool in langchain_gmail_tools:\n",
        "    wrapper_class = tool_wrappers.get(tool.name)\n",
        "    if wrapper_class:\n",
        "        crewai_gmail_tools.append(wrapper_class(tool))\n",
        "\n",
        "\n",
        "gmail_agent = Agent(\n",
        "    tools=crewai_gmail_tools, # Use the wrapped tools\n",
        "    role=\"Tennis email sender\",\n",
        "    goal=\"Send draft email via GMail\",\n",
        "    backstory=(\n",
        "        \"You can send draft email for oppoonet emails so I can review and forward the email myself. \"\n",
        "    ),\n",
        "    verbose=True,\n",
        "    llm=\"gpt-4o\"\n",
        ")\n",
        "\n",
        "gmail_task = Task(\n",
        "    description=\"Draft and send a reminder email for match.\",\n",
        "    expected_output=\"A sent email confirming match details.\",\n",
        "    agent=gmail_agent,\n",
        ")"
      ],
      "metadata": {
        "id": "HifeLC5vub_G"
      },
      "id": "HifeLC5vub_G",
      "execution_count": 120,
      "outputs": []
    },
    {
      "cell_type": "code",
      "execution_count": 121,
      "id": "3b70cea1",
      "metadata": {
        "vscode": {
          "languageId": "plaintext"
        },
        "id": "3b70cea1"
      },
      "outputs": [],
      "source": [
        "supervisor_agent = Agent(\n",
        "    role=\"Supervisor Agent\",\n",
        "    goal=\"Coordinate tasks among team lookup and email agents to prepare match communications.\",\n",
        "    backstory=\"Understands how to use other agents to accomplish composite goals.\",\n",
        "    tools=[scrape_tool, capitan_tool, email_tool] + crewai_gmail_tools,\n",
        "    reasoning=True,\n",
        "    max_reasoning_attempts=3,\n",
        "    verbose=True,\n",
        "    llm=\"gpt-4o\"\n",
        ")\n",
        "\n",
        "supervisor_task = Task(\n",
        "    description=(\n",
        "        \"Plan and coordinate the process: \"\n",
        "        \"Find if Thornhill Park team plays at home (H) for a specific date. \"\n",
        "        \"If Thornhill Park team plays away game (A) tell this and stop the flow. \"\n",
        "        \"Get opponent team name. \"\n",
        "        \"Find opponent email and name. \"\n",
        "        \"Create email body and subject. \"\n",
        "        \"Send draft email for opponent emails so I can review and forward the email myself. \"\n",
        "    ),\n",
        "    expected_output=\"Confirmation of whether the Thornhill Park team plays at home or away on the specified date, and if playing at home, the drafted email details for the opponent team's captain(s).\",\n",
        "    agent=supervisor_agent,\n",
        "    dependencies=[scrape_task, capitan_task, email_task, gmail_task]\n",
        ")"
      ]
    },
    {
      "cell_type": "code",
      "execution_count": 122,
      "id": "3b31d770",
      "metadata": {
        "vscode": {
          "languageId": "plaintext"
        },
        "id": "3b31d770"
      },
      "outputs": [],
      "source": [
        "crew = Crew(\n",
        "  agents=[supervisor_agent],\n",
        "  tasks=[supervisor_task],\n",
        "  verbose=True,\n",
        "  process=Process.sequential,\n",
        "  color=False\n",
        "  #inject_date=True,  # Automatically inject current date into tasks\n",
        "  #date_format=\"%B %d, %Y\",  # Format as \"May 21, 2025\"\n",
        ")"
      ]
    },
    {
      "cell_type": "code",
      "execution_count": 123,
      "id": "df436433",
      "metadata": {
        "vscode": {
          "languageId": "plaintext"
        },
        "colab": {
          "base_uri": "https://localhost:8080/",
          "height": 1000,
          "referenced_widgets": [
            "445ddad22b964a77ac9b26a9f89605b2",
            "000b4fad05ba43d691f0c1db242e8959",
            "3f3d4cc878694ce192d490b0597a6c38",
            "78ba94c86a6b458a806ab222fc35f4fb"
          ]
        },
        "id": "df436433",
        "outputId": "68738b25-fde4-432e-f8bb-90fa3616efb3"
      },
      "outputs": [
        {
          "output_type": "display_data",
          "data": {
            "text/plain": [
              "\u001b[36m╭─\u001b[0m\u001b[36m───────────────────────────────────────────\u001b[0m\u001b[36m Crew Execution Started \u001b[0m\u001b[36m────────────────────────────────────────────\u001b[0m\u001b[36m─╮\u001b[0m\n",
              "\u001b[36m│\u001b[0m                                                                                                                 \u001b[36m│\u001b[0m\n",
              "\u001b[36m│\u001b[0m  \u001b[1;36mCrew Execution Started\u001b[0m                                                                                         \u001b[36m│\u001b[0m\n",
              "\u001b[36m│\u001b[0m  \u001b[37mName: \u001b[0m\u001b[36mcrew\u001b[0m                                                                                                     \u001b[36m│\u001b[0m\n",
              "\u001b[36m│\u001b[0m  \u001b[37mID: \u001b[0m\u001b[36mc888ddd6-b6b2-420c-85cc-0f9fa30d1172\u001b[0m                                                                       \u001b[36m│\u001b[0m\n",
              "\u001b[36m│\u001b[0m  \u001b[37mTool Args: \u001b[0m                                                                                                    \u001b[36m│\u001b[0m\n",
              "\u001b[36m│\u001b[0m                                                                                                                 \u001b[36m│\u001b[0m\n",
              "\u001b[36m│\u001b[0m                                                                                                                 \u001b[36m│\u001b[0m\n",
              "\u001b[36m╰─────────────────────────────────────────────────────────────────────────────────────────────────────────────────╯\u001b[0m\n"
            ],
            "text/html": [
              "<pre style=\"white-space:pre;overflow-x:auto;line-height:normal;font-family:Menlo,'DejaVu Sans Mono',consolas,'Courier New',monospace\"><span style=\"color: #008080; text-decoration-color: #008080\">╭──────────────────────────────────────────── Crew Execution Started ─────────────────────────────────────────────╮</span>\n",
              "<span style=\"color: #008080; text-decoration-color: #008080\">│</span>                                                                                                                 <span style=\"color: #008080; text-decoration-color: #008080\">│</span>\n",
              "<span style=\"color: #008080; text-decoration-color: #008080\">│</span>  <span style=\"color: #008080; text-decoration-color: #008080; font-weight: bold\">Crew Execution Started</span>                                                                                         <span style=\"color: #008080; text-decoration-color: #008080\">│</span>\n",
              "<span style=\"color: #008080; text-decoration-color: #008080\">│</span>  <span style=\"color: #c0c0c0; text-decoration-color: #c0c0c0\">Name: </span><span style=\"color: #008080; text-decoration-color: #008080\">crew</span>                                                                                                     <span style=\"color: #008080; text-decoration-color: #008080\">│</span>\n",
              "<span style=\"color: #008080; text-decoration-color: #008080\">│</span>  <span style=\"color: #c0c0c0; text-decoration-color: #c0c0c0\">ID: </span><span style=\"color: #008080; text-decoration-color: #008080\">c888ddd6-b6b2-420c-85cc-0f9fa30d1172</span>                                                                       <span style=\"color: #008080; text-decoration-color: #008080\">│</span>\n",
              "<span style=\"color: #008080; text-decoration-color: #008080\">│</span>  <span style=\"color: #c0c0c0; text-decoration-color: #c0c0c0\">Tool Args: </span>                                                                                                    <span style=\"color: #008080; text-decoration-color: #008080\">│</span>\n",
              "<span style=\"color: #008080; text-decoration-color: #008080\">│</span>                                                                                                                 <span style=\"color: #008080; text-decoration-color: #008080\">│</span>\n",
              "<span style=\"color: #008080; text-decoration-color: #008080\">│</span>                                                                                                                 <span style=\"color: #008080; text-decoration-color: #008080\">│</span>\n",
              "<span style=\"color: #008080; text-decoration-color: #008080\">╰─────────────────────────────────────────────────────────────────────────────────────────────────────────────────╯</span>\n",
              "</pre>\n"
            ]
          },
          "metadata": {}
        },
        {
          "output_type": "display_data",
          "data": {
            "text/plain": [
              "\n"
            ],
            "text/html": [
              "<pre style=\"white-space:pre;overflow-x:auto;line-height:normal;font-family:Menlo,'DejaVu Sans Mono',consolas,'Courier New',monospace\">\n",
              "</pre>\n"
            ]
          },
          "metadata": {}
        },
        {
          "output_type": "display_data",
          "data": {
            "text/plain": [
              "Output()"
            ],
            "application/vnd.jupyter.widget-view+json": {
              "version_major": 2,
              "version_minor": 0,
              "model_id": "445ddad22b964a77ac9b26a9f89605b2"
            }
          },
          "metadata": {}
        },
        {
          "output_type": "display_data",
          "data": {
            "text/plain": [],
            "text/html": [
              "<pre style=\"white-space:pre;overflow-x:auto;line-height:normal;font-family:Menlo,'DejaVu Sans Mono',consolas,'Courier New',monospace\"></pre>\n"
            ]
          },
          "metadata": {}
        },
        {
          "output_type": "display_data",
          "data": {
            "text/plain": [
              "\n"
            ],
            "text/html": [
              "<pre style=\"white-space:pre;overflow-x:auto;line-height:normal;font-family:Menlo,'DejaVu Sans Mono',consolas,'Courier New',monospace\">\n",
              "</pre>\n"
            ]
          },
          "metadata": {}
        },
        {
          "output_type": "display_data",
          "data": {
            "text/plain": [
              "\u001b[32m╭─\u001b[0m\u001b[32m──────────────────────────────────────────────\u001b[0m\u001b[32m 🧠 Reasoning Plan \u001b[0m\u001b[32m──────────────────────────────────────────────\u001b[0m\u001b[32m─╮\u001b[0m\n",
              "\u001b[32m│\u001b[0m                                                                                                                 \u001b[32m│\u001b[0m\n",
              "\u001b[32m│\u001b[0m  \u001b[37mHere is my detailed plan for accomplishing the task at hand:\u001b[0m                                                   \u001b[32m│\u001b[0m\n",
              "\u001b[32m│\u001b[0m                                                                                                                 \u001b[32m│\u001b[0m\n",
              "\u001b[32m│\u001b[0m  \u001b[37m1. **Understanding the Task**:\u001b[0m                                                                                 \u001b[32m│\u001b[0m\n",
              "\u001b[32m│\u001b[0m  \u001b[37m   - The primary goal is to determine the location of a match for the Thornhill Park team and, if it's a home\u001b[0m  \u001b[32m│\u001b[0m\n",
              "\u001b[32m│\u001b[0m  \u001b[37mgame, to draft an email for the opponent team's captain(s) for review and sending.\u001b[0m                             \u001b[32m│\u001b[0m\n",
              "\u001b[32m│\u001b[0m  \u001b[37m   - Key components include verifying the match location, identifying the opponent team, finding relevant \u001b[0m     \u001b[32m│\u001b[0m\n",
              "\u001b[32m│\u001b[0m  \u001b[37mcontact information, and crafting a proper email communication.\u001b[0m                                                \u001b[32m│\u001b[0m\n",
              "\u001b[32m│\u001b[0m                                                                                                                 \u001b[32m│\u001b[0m\n",
              "\u001b[32m│\u001b[0m  \u001b[37m2. **Key Steps**:\u001b[0m                                                                                              \u001b[32m│\u001b[0m\n",
              "\u001b[32m│\u001b[0m  \u001b[37m   - **Step 1**: Verify if the Thornhill Park team plays at home or away on a specific date.\u001b[0m                   \u001b[32m│\u001b[0m\n",
              "\u001b[32m│\u001b[0m  \u001b[37m     - Use tool 1: Read a website content for schedule details.\u001b[0m                                                \u001b[32m│\u001b[0m\n",
              "\u001b[32m│\u001b[0m  \u001b[37m   - **Step 2**: If the team plays at home, identify the opponent team.\u001b[0m                                        \u001b[32m│\u001b[0m\n",
              "\u001b[32m│\u001b[0m  \u001b[37m   - **Step 3**: Retrieve the email and name of the opponent team's captain.\u001b[0m                                   \u001b[32m│\u001b[0m\n",
              "\u001b[32m│\u001b[0m  \u001b[37m     - Use tool 2: `get_capitan` for fetching the opponent captain’s contact details.\u001b[0m                          \u001b[32m│\u001b[0m\n",
              "\u001b[32m│\u001b[0m  \u001b[37m   - **Step 4**: Draft the email subject and body.\u001b[0m                                                             \u001b[32m│\u001b[0m\n",
              "\u001b[32m│\u001b[0m  \u001b[37m   - **Step 5**: Prepare a draft email consisting of the collected information for review.\u001b[0m                     \u001b[32m│\u001b[0m\n",
              "\u001b[32m│\u001b[0m  \u001b[37m     - Use tool 3: `get_match_email` for drafting the email with placeholders for attributes like the \u001b[0m         \u001b[32m│\u001b[0m\n",
              "\u001b[32m│\u001b[0m  \u001b[37mopponent team name and date.\u001b[0m                                                                                   \u001b[32m│\u001b[0m\n",
              "\u001b[32m│\u001b[0m                                                                                                                 \u001b[32m│\u001b[0m\n",
              "\u001b[32m│\u001b[0m  \u001b[37m3. **Approach to Challenges**:\u001b[0m                                                                                 \u001b[32m│\u001b[0m\n",
              "\u001b[32m│\u001b[0m  \u001b[37m   - **Challenge 1**: Ensuring accurate match information – rely on the accuracy and updated nature of \u001b[0m        \u001b[32m│\u001b[0m\n",
              "\u001b[32m│\u001b[0m  \u001b[37mwebsite content to confirm if it's a home or away game.\u001b[0m                                                        \u001b[32m│\u001b[0m\n",
              "\u001b[32m│\u001b[0m  \u001b[37m   - **Challenge 2**: Correct identification of opponent contact details – ensure the functions used are \u001b[0m      \u001b[32m│\u001b[0m\n",
              "\u001b[32m│\u001b[0m  \u001b[37mup-to-date and querying the correct database for the most accurate email and name.\u001b[0m                             \u001b[32m│\u001b[0m\n",
              "\u001b[32m│\u001b[0m  \u001b[37m   - **Challenge 3**: Efficient communication – clear email template that requires minimal editing for \u001b[0m        \u001b[32m│\u001b[0m\n",
              "\u001b[32m│\u001b[0m  \u001b[37mapproval and final sending.\u001b[0m                                                                                    \u001b[32m│\u001b[0m\n",
              "\u001b[32m│\u001b[0m                                                                                                                 \u001b[32m│\u001b[0m\n",
              "\u001b[32m│\u001b[0m  \u001b[37m4. **Strategic Use of Tools**:\u001b[0m                                                                                 \u001b[32m│\u001b[0m\n",
              "\u001b[32m│\u001b[0m  \u001b[37m   - **Tool Usage**:\u001b[0m                                                                                           \u001b[32m│\u001b[0m\n",
              "\u001b[32m│\u001b[0m  \u001b[37m     - Utilize “Read a website content” to determine if Thornhill Park plays at home. This is the initial and\u001b[0m  \u001b[32m│\u001b[0m\n",
              "\u001b[32m│\u001b[0m  \u001b[37mmost crucial step for branching the workflow.\u001b[0m                                                                  \u001b[32m│\u001b[0m\n",
              "\u001b[32m│\u001b[0m  \u001b[37m     - If a home game is confirmed, apply `get_capitan` to fetch the captain’s name and email for the away \u001b[0m    \u001b[32m│\u001b[0m\n",
              "\u001b[32m│\u001b[0m  \u001b[37mteam.\u001b[0m                                                                                                          \u001b[32m│\u001b[0m\n",
              "\u001b[32m│\u001b[0m  \u001b[37m     - Utilize `get_match_email` to formulate a draft email, ensuring it includes placeholders for \u001b[0m            \u001b[32m│\u001b[0m\n",
              "\u001b[32m│\u001b[0m  \u001b[37mpersonalizing with the opponent's details.\u001b[0m                                                                     \u001b[32m│\u001b[0m\n",
              "\u001b[32m│\u001b[0m  \u001b[37m   \u001b[0m                                                                                                            \u001b[32m│\u001b[0m\n",
              "\u001b[32m│\u001b[0m  \u001b[37m5. **Expected Outcome**:\u001b[0m                                                                                       \u001b[32m│\u001b[0m\n",
              "\u001b[32m│\u001b[0m  \u001b[37m   - If Thornhill Park plays away, efficiently conclude the task by informing the relevant stakeholder with \u001b[0m   \u001b[32m│\u001b[0m\n",
              "\u001b[32m│\u001b[0m  \u001b[37mno further actions.\u001b[0m                                                                                            \u001b[32m│\u001b[0m\n",
              "\u001b[32m│\u001b[0m  \u001b[37m   - If Thornhill Park plays at home, provide a complete, formatted email ready for review which aligns with \u001b[0m  \u001b[32m│\u001b[0m\n",
              "\u001b[32m│\u001b[0m  \u001b[37mthe communications goal of preparing for the home match procedure.\u001b[0m                                             \u001b[32m│\u001b[0m\n",
              "\u001b[32m│\u001b[0m                                                                                                                 \u001b[32m│\u001b[0m\n",
              "\u001b[32m│\u001b[0m  \u001b[37mWith this strategic plan, I ensure streamlined operations leading to timely and effective match \u001b[0m               \u001b[32m│\u001b[0m\n",
              "\u001b[32m│\u001b[0m  \u001b[37mcommunication. \u001b[0m                                                                                                \u001b[32m│\u001b[0m\n",
              "\u001b[32m│\u001b[0m                                                                                                                 \u001b[32m│\u001b[0m\n",
              "\u001b[32m│\u001b[0m  \u001b[37m**READY: I am ready to execute the task.**\u001b[0m                                                                     \u001b[32m│\u001b[0m\n",
              "\u001b[32m│\u001b[0m                                                                                                                 \u001b[32m│\u001b[0m\n",
              "\u001b[32m╰─────────────────────────────────────────────────────────────────────────────────────────────────────────────────╯\u001b[0m\n"
            ],
            "text/html": [
              "<pre style=\"white-space:pre;overflow-x:auto;line-height:normal;font-family:Menlo,'DejaVu Sans Mono',consolas,'Courier New',monospace\"><span style=\"color: #008000; text-decoration-color: #008000\">╭─────────────────────────────────────────────── 🧠 Reasoning Plan ───────────────────────────────────────────────╮</span>\n",
              "<span style=\"color: #008000; text-decoration-color: #008000\">│</span>                                                                                                                 <span style=\"color: #008000; text-decoration-color: #008000\">│</span>\n",
              "<span style=\"color: #008000; text-decoration-color: #008000\">│</span>  <span style=\"color: #c0c0c0; text-decoration-color: #c0c0c0\">Here is my detailed plan for accomplishing the task at hand:</span>                                                   <span style=\"color: #008000; text-decoration-color: #008000\">│</span>\n",
              "<span style=\"color: #008000; text-decoration-color: #008000\">│</span>                                                                                                                 <span style=\"color: #008000; text-decoration-color: #008000\">│</span>\n",
              "<span style=\"color: #008000; text-decoration-color: #008000\">│</span>  <span style=\"color: #c0c0c0; text-decoration-color: #c0c0c0\">1. **Understanding the Task**:</span>                                                                                 <span style=\"color: #008000; text-decoration-color: #008000\">│</span>\n",
              "<span style=\"color: #008000; text-decoration-color: #008000\">│</span>  <span style=\"color: #c0c0c0; text-decoration-color: #c0c0c0\">   - The primary goal is to determine the location of a match for the Thornhill Park team and, if it's a home</span>  <span style=\"color: #008000; text-decoration-color: #008000\">│</span>\n",
              "<span style=\"color: #008000; text-decoration-color: #008000\">│</span>  <span style=\"color: #c0c0c0; text-decoration-color: #c0c0c0\">game, to draft an email for the opponent team's captain(s) for review and sending.</span>                             <span style=\"color: #008000; text-decoration-color: #008000\">│</span>\n",
              "<span style=\"color: #008000; text-decoration-color: #008000\">│</span>  <span style=\"color: #c0c0c0; text-decoration-color: #c0c0c0\">   - Key components include verifying the match location, identifying the opponent team, finding relevant </span>     <span style=\"color: #008000; text-decoration-color: #008000\">│</span>\n",
              "<span style=\"color: #008000; text-decoration-color: #008000\">│</span>  <span style=\"color: #c0c0c0; text-decoration-color: #c0c0c0\">contact information, and crafting a proper email communication.</span>                                                <span style=\"color: #008000; text-decoration-color: #008000\">│</span>\n",
              "<span style=\"color: #008000; text-decoration-color: #008000\">│</span>                                                                                                                 <span style=\"color: #008000; text-decoration-color: #008000\">│</span>\n",
              "<span style=\"color: #008000; text-decoration-color: #008000\">│</span>  <span style=\"color: #c0c0c0; text-decoration-color: #c0c0c0\">2. **Key Steps**:</span>                                                                                              <span style=\"color: #008000; text-decoration-color: #008000\">│</span>\n",
              "<span style=\"color: #008000; text-decoration-color: #008000\">│</span>  <span style=\"color: #c0c0c0; text-decoration-color: #c0c0c0\">   - **Step 1**: Verify if the Thornhill Park team plays at home or away on a specific date.</span>                   <span style=\"color: #008000; text-decoration-color: #008000\">│</span>\n",
              "<span style=\"color: #008000; text-decoration-color: #008000\">│</span>  <span style=\"color: #c0c0c0; text-decoration-color: #c0c0c0\">     - Use tool 1: Read a website content for schedule details.</span>                                                <span style=\"color: #008000; text-decoration-color: #008000\">│</span>\n",
              "<span style=\"color: #008000; text-decoration-color: #008000\">│</span>  <span style=\"color: #c0c0c0; text-decoration-color: #c0c0c0\">   - **Step 2**: If the team plays at home, identify the opponent team.</span>                                        <span style=\"color: #008000; text-decoration-color: #008000\">│</span>\n",
              "<span style=\"color: #008000; text-decoration-color: #008000\">│</span>  <span style=\"color: #c0c0c0; text-decoration-color: #c0c0c0\">   - **Step 3**: Retrieve the email and name of the opponent team's captain.</span>                                   <span style=\"color: #008000; text-decoration-color: #008000\">│</span>\n",
              "<span style=\"color: #008000; text-decoration-color: #008000\">│</span>  <span style=\"color: #c0c0c0; text-decoration-color: #c0c0c0\">     - Use tool 2: `get_capitan` for fetching the opponent captain’s contact details.</span>                          <span style=\"color: #008000; text-decoration-color: #008000\">│</span>\n",
              "<span style=\"color: #008000; text-decoration-color: #008000\">│</span>  <span style=\"color: #c0c0c0; text-decoration-color: #c0c0c0\">   - **Step 4**: Draft the email subject and body.</span>                                                             <span style=\"color: #008000; text-decoration-color: #008000\">│</span>\n",
              "<span style=\"color: #008000; text-decoration-color: #008000\">│</span>  <span style=\"color: #c0c0c0; text-decoration-color: #c0c0c0\">   - **Step 5**: Prepare a draft email consisting of the collected information for review.</span>                     <span style=\"color: #008000; text-decoration-color: #008000\">│</span>\n",
              "<span style=\"color: #008000; text-decoration-color: #008000\">│</span>  <span style=\"color: #c0c0c0; text-decoration-color: #c0c0c0\">     - Use tool 3: `get_match_email` for drafting the email with placeholders for attributes like the </span>         <span style=\"color: #008000; text-decoration-color: #008000\">│</span>\n",
              "<span style=\"color: #008000; text-decoration-color: #008000\">│</span>  <span style=\"color: #c0c0c0; text-decoration-color: #c0c0c0\">opponent team name and date.</span>                                                                                   <span style=\"color: #008000; text-decoration-color: #008000\">│</span>\n",
              "<span style=\"color: #008000; text-decoration-color: #008000\">│</span>                                                                                                                 <span style=\"color: #008000; text-decoration-color: #008000\">│</span>\n",
              "<span style=\"color: #008000; text-decoration-color: #008000\">│</span>  <span style=\"color: #c0c0c0; text-decoration-color: #c0c0c0\">3. **Approach to Challenges**:</span>                                                                                 <span style=\"color: #008000; text-decoration-color: #008000\">│</span>\n",
              "<span style=\"color: #008000; text-decoration-color: #008000\">│</span>  <span style=\"color: #c0c0c0; text-decoration-color: #c0c0c0\">   - **Challenge 1**: Ensuring accurate match information – rely on the accuracy and updated nature of </span>        <span style=\"color: #008000; text-decoration-color: #008000\">│</span>\n",
              "<span style=\"color: #008000; text-decoration-color: #008000\">│</span>  <span style=\"color: #c0c0c0; text-decoration-color: #c0c0c0\">website content to confirm if it's a home or away game.</span>                                                        <span style=\"color: #008000; text-decoration-color: #008000\">│</span>\n",
              "<span style=\"color: #008000; text-decoration-color: #008000\">│</span>  <span style=\"color: #c0c0c0; text-decoration-color: #c0c0c0\">   - **Challenge 2**: Correct identification of opponent contact details – ensure the functions used are </span>      <span style=\"color: #008000; text-decoration-color: #008000\">│</span>\n",
              "<span style=\"color: #008000; text-decoration-color: #008000\">│</span>  <span style=\"color: #c0c0c0; text-decoration-color: #c0c0c0\">up-to-date and querying the correct database for the most accurate email and name.</span>                             <span style=\"color: #008000; text-decoration-color: #008000\">│</span>\n",
              "<span style=\"color: #008000; text-decoration-color: #008000\">│</span>  <span style=\"color: #c0c0c0; text-decoration-color: #c0c0c0\">   - **Challenge 3**: Efficient communication – clear email template that requires minimal editing for </span>        <span style=\"color: #008000; text-decoration-color: #008000\">│</span>\n",
              "<span style=\"color: #008000; text-decoration-color: #008000\">│</span>  <span style=\"color: #c0c0c0; text-decoration-color: #c0c0c0\">approval and final sending.</span>                                                                                    <span style=\"color: #008000; text-decoration-color: #008000\">│</span>\n",
              "<span style=\"color: #008000; text-decoration-color: #008000\">│</span>                                                                                                                 <span style=\"color: #008000; text-decoration-color: #008000\">│</span>\n",
              "<span style=\"color: #008000; text-decoration-color: #008000\">│</span>  <span style=\"color: #c0c0c0; text-decoration-color: #c0c0c0\">4. **Strategic Use of Tools**:</span>                                                                                 <span style=\"color: #008000; text-decoration-color: #008000\">│</span>\n",
              "<span style=\"color: #008000; text-decoration-color: #008000\">│</span>  <span style=\"color: #c0c0c0; text-decoration-color: #c0c0c0\">   - **Tool Usage**:</span>                                                                                           <span style=\"color: #008000; text-decoration-color: #008000\">│</span>\n",
              "<span style=\"color: #008000; text-decoration-color: #008000\">│</span>  <span style=\"color: #c0c0c0; text-decoration-color: #c0c0c0\">     - Utilize “Read a website content” to determine if Thornhill Park plays at home. This is the initial and</span>  <span style=\"color: #008000; text-decoration-color: #008000\">│</span>\n",
              "<span style=\"color: #008000; text-decoration-color: #008000\">│</span>  <span style=\"color: #c0c0c0; text-decoration-color: #c0c0c0\">most crucial step for branching the workflow.</span>                                                                  <span style=\"color: #008000; text-decoration-color: #008000\">│</span>\n",
              "<span style=\"color: #008000; text-decoration-color: #008000\">│</span>  <span style=\"color: #c0c0c0; text-decoration-color: #c0c0c0\">     - If a home game is confirmed, apply `get_capitan` to fetch the captain’s name and email for the away </span>    <span style=\"color: #008000; text-decoration-color: #008000\">│</span>\n",
              "<span style=\"color: #008000; text-decoration-color: #008000\">│</span>  <span style=\"color: #c0c0c0; text-decoration-color: #c0c0c0\">team.</span>                                                                                                          <span style=\"color: #008000; text-decoration-color: #008000\">│</span>\n",
              "<span style=\"color: #008000; text-decoration-color: #008000\">│</span>  <span style=\"color: #c0c0c0; text-decoration-color: #c0c0c0\">     - Utilize `get_match_email` to formulate a draft email, ensuring it includes placeholders for </span>            <span style=\"color: #008000; text-decoration-color: #008000\">│</span>\n",
              "<span style=\"color: #008000; text-decoration-color: #008000\">│</span>  <span style=\"color: #c0c0c0; text-decoration-color: #c0c0c0\">personalizing with the opponent's details.</span>                                                                     <span style=\"color: #008000; text-decoration-color: #008000\">│</span>\n",
              "<span style=\"color: #008000; text-decoration-color: #008000\">│</span>  <span style=\"color: #c0c0c0; text-decoration-color: #c0c0c0\">   </span>                                                                                                            <span style=\"color: #008000; text-decoration-color: #008000\">│</span>\n",
              "<span style=\"color: #008000; text-decoration-color: #008000\">│</span>  <span style=\"color: #c0c0c0; text-decoration-color: #c0c0c0\">5. **Expected Outcome**:</span>                                                                                       <span style=\"color: #008000; text-decoration-color: #008000\">│</span>\n",
              "<span style=\"color: #008000; text-decoration-color: #008000\">│</span>  <span style=\"color: #c0c0c0; text-decoration-color: #c0c0c0\">   - If Thornhill Park plays away, efficiently conclude the task by informing the relevant stakeholder with </span>   <span style=\"color: #008000; text-decoration-color: #008000\">│</span>\n",
              "<span style=\"color: #008000; text-decoration-color: #008000\">│</span>  <span style=\"color: #c0c0c0; text-decoration-color: #c0c0c0\">no further actions.</span>                                                                                            <span style=\"color: #008000; text-decoration-color: #008000\">│</span>\n",
              "<span style=\"color: #008000; text-decoration-color: #008000\">│</span>  <span style=\"color: #c0c0c0; text-decoration-color: #c0c0c0\">   - If Thornhill Park plays at home, provide a complete, formatted email ready for review which aligns with </span>  <span style=\"color: #008000; text-decoration-color: #008000\">│</span>\n",
              "<span style=\"color: #008000; text-decoration-color: #008000\">│</span>  <span style=\"color: #c0c0c0; text-decoration-color: #c0c0c0\">the communications goal of preparing for the home match procedure.</span>                                             <span style=\"color: #008000; text-decoration-color: #008000\">│</span>\n",
              "<span style=\"color: #008000; text-decoration-color: #008000\">│</span>                                                                                                                 <span style=\"color: #008000; text-decoration-color: #008000\">│</span>\n",
              "<span style=\"color: #008000; text-decoration-color: #008000\">│</span>  <span style=\"color: #c0c0c0; text-decoration-color: #c0c0c0\">With this strategic plan, I ensure streamlined operations leading to timely and effective match </span>               <span style=\"color: #008000; text-decoration-color: #008000\">│</span>\n",
              "<span style=\"color: #008000; text-decoration-color: #008000\">│</span>  <span style=\"color: #c0c0c0; text-decoration-color: #c0c0c0\">communication. </span>                                                                                                <span style=\"color: #008000; text-decoration-color: #008000\">│</span>\n",
              "<span style=\"color: #008000; text-decoration-color: #008000\">│</span>                                                                                                                 <span style=\"color: #008000; text-decoration-color: #008000\">│</span>\n",
              "<span style=\"color: #008000; text-decoration-color: #008000\">│</span>  <span style=\"color: #c0c0c0; text-decoration-color: #c0c0c0\">**READY: I am ready to execute the task.**</span>                                                                     <span style=\"color: #008000; text-decoration-color: #008000\">│</span>\n",
              "<span style=\"color: #008000; text-decoration-color: #008000\">│</span>                                                                                                                 <span style=\"color: #008000; text-decoration-color: #008000\">│</span>\n",
              "<span style=\"color: #008000; text-decoration-color: #008000\">╰─────────────────────────────────────────────────────────────────────────────────────────────────────────────────╯</span>\n",
              "</pre>\n"
            ]
          },
          "metadata": {}
        },
        {
          "output_type": "display_data",
          "data": {
            "text/plain": [
              "\n"
            ],
            "text/html": [
              "<pre style=\"white-space:pre;overflow-x:auto;line-height:normal;font-family:Menlo,'DejaVu Sans Mono',consolas,'Courier New',monospace\">\n",
              "</pre>\n"
            ]
          },
          "metadata": {}
        },
        {
          "output_type": "display_data",
          "data": {
            "text/plain": [
              "Output()"
            ],
            "application/vnd.jupyter.widget-view+json": {
              "version_major": 2,
              "version_minor": 0,
              "model_id": "3f3d4cc878694ce192d490b0597a6c38"
            }
          },
          "metadata": {}
        },
        {
          "output_type": "stream",
          "name": "stdout",
          "text": [
            "\u001b[94mRepaired JSON: {}\u001b[0m\n"
          ]
        },
        {
          "output_type": "display_data",
          "data": {
            "text/plain": [
              "\u001b[1m[\u001b[0mCrewAIEventsBus\u001b[1m]\u001b[0m Sync handler error in on_agent_logs_execution: Extra data: line \u001b[1;36m2\u001b[0m column \u001b[1;36m1\u001b[0m \u001b[1m(\u001b[0mchar \u001b[1;36m3\u001b[0m\u001b[1m)\u001b[0m\n"
            ],
            "text/html": [
              "<pre style=\"white-space:pre;overflow-x:auto;line-height:normal;font-family:Menlo,'DejaVu Sans Mono',consolas,'Courier New',monospace\"><span style=\"font-weight: bold\">[</span>CrewAIEventsBus<span style=\"font-weight: bold\">]</span> Sync handler error in on_agent_logs_execution: Extra data: line <span style=\"color: #008080; text-decoration-color: #008080; font-weight: bold\">2</span> column <span style=\"color: #008080; text-decoration-color: #008080; font-weight: bold\">1</span> <span style=\"font-weight: bold\">(</span>char <span style=\"color: #008080; text-decoration-color: #008080; font-weight: bold\">3</span><span style=\"font-weight: bold\">)</span>\n",
              "</pre>\n"
            ]
          },
          "metadata": {}
        },
        {
          "output_type": "display_data",
          "data": {
            "text/plain": [],
            "text/html": [
              "<pre style=\"white-space:pre;overflow-x:auto;line-height:normal;font-family:Menlo,'DejaVu Sans Mono',consolas,'Courier New',monospace\"></pre>\n"
            ]
          },
          "metadata": {}
        },
        {
          "output_type": "display_data",
          "data": {
            "text/plain": [
              "\u001b[32m╭─\u001b[0m\u001b[32m────────────────────────────────────────────\u001b[0m\u001b[32m ✅ Agent Final Answer \u001b[0m\u001b[32m────────────────────────────────────────────\u001b[0m\u001b[32m─╮\u001b[0m\n",
              "\u001b[32m│\u001b[0m                                                                                                                 \u001b[32m│\u001b[0m\n",
              "\u001b[32m│\u001b[0m  \u001b[37mAgent: \u001b[0m\u001b[1;92mSupervisor Agent\u001b[0m                                                                                        \u001b[32m│\u001b[0m\n",
              "\u001b[32m│\u001b[0m                                                                                                                 \u001b[32m│\u001b[0m\n",
              "\u001b[32m│\u001b[0m  \u001b[37mFinal Answer:\u001b[0m                                                                                                  \u001b[32m│\u001b[0m\n",
              "\u001b[32m│\u001b[0m  \u001b[92mOn 11/30, the Thornhill Park team plays an away game against Veneto A2, so no further actions are needed as \u001b[0m   \u001b[32m│\u001b[0m\n",
              "\u001b[32m│\u001b[0m  \u001b[92mthe match is not at home.\u001b[0m                                                                                      \u001b[32m│\u001b[0m\n",
              "\u001b[32m│\u001b[0m                                                                                                                 \u001b[32m│\u001b[0m\n",
              "\u001b[32m╰─────────────────────────────────────────────────────────────────────────────────────────────────────────────────╯\u001b[0m\n"
            ],
            "text/html": [
              "<pre style=\"white-space:pre;overflow-x:auto;line-height:normal;font-family:Menlo,'DejaVu Sans Mono',consolas,'Courier New',monospace\"><span style=\"color: #008000; text-decoration-color: #008000\">╭───────────────────────────────────────────── ✅ Agent Final Answer ─────────────────────────────────────────────╮</span>\n",
              "<span style=\"color: #008000; text-decoration-color: #008000\">│</span>                                                                                                                 <span style=\"color: #008000; text-decoration-color: #008000\">│</span>\n",
              "<span style=\"color: #008000; text-decoration-color: #008000\">│</span>  <span style=\"color: #c0c0c0; text-decoration-color: #c0c0c0\">Agent: </span><span style=\"color: #00ff00; text-decoration-color: #00ff00; font-weight: bold\">Supervisor Agent</span>                                                                                        <span style=\"color: #008000; text-decoration-color: #008000\">│</span>\n",
              "<span style=\"color: #008000; text-decoration-color: #008000\">│</span>                                                                                                                 <span style=\"color: #008000; text-decoration-color: #008000\">│</span>\n",
              "<span style=\"color: #008000; text-decoration-color: #008000\">│</span>  <span style=\"color: #c0c0c0; text-decoration-color: #c0c0c0\">Final Answer:</span>                                                                                                  <span style=\"color: #008000; text-decoration-color: #008000\">│</span>\n",
              "<span style=\"color: #008000; text-decoration-color: #008000\">│</span>  <span style=\"color: #00ff00; text-decoration-color: #00ff00\">On 11/30, the Thornhill Park team plays an away game against Veneto A2, so no further actions are needed as </span>   <span style=\"color: #008000; text-decoration-color: #008000\">│</span>\n",
              "<span style=\"color: #008000; text-decoration-color: #008000\">│</span>  <span style=\"color: #00ff00; text-decoration-color: #00ff00\">the match is not at home.</span>                                                                                      <span style=\"color: #008000; text-decoration-color: #008000\">│</span>\n",
              "<span style=\"color: #008000; text-decoration-color: #008000\">│</span>                                                                                                                 <span style=\"color: #008000; text-decoration-color: #008000\">│</span>\n",
              "<span style=\"color: #008000; text-decoration-color: #008000\">╰─────────────────────────────────────────────────────────────────────────────────────────────────────────────────╯</span>\n",
              "</pre>\n"
            ]
          },
          "metadata": {}
        }
      ],
      "source": [
        "inputs = {\n",
        "    \"date\": date,\n",
        "}\n",
        "\n",
        "result = crew.kickoff(inputs=inputs)"
      ]
    }
  ],
  "metadata": {
    "language_info": {
      "name": "python"
    },
    "colab": {
      "provenance": [],
      "include_colab_link": true
    },
    "kernelspec": {
      "name": "python3",
      "display_name": "Python 3"
    },
    "widgets": {
      "application/vnd.jupyter.widget-state+json": {
        "445ddad22b964a77ac9b26a9f89605b2": {
          "model_module": "@jupyter-widgets/output",
          "model_name": "OutputModel",
          "model_module_version": "1.0.0",
          "state": {
            "_dom_classes": [],
            "_model_module": "@jupyter-widgets/output",
            "_model_module_version": "1.0.0",
            "_model_name": "OutputModel",
            "_view_count": null,
            "_view_module": "@jupyter-widgets/output",
            "_view_module_version": "1.0.0",
            "_view_name": "OutputView",
            "layout": "IPY_MODEL_000b4fad05ba43d691f0c1db242e8959",
            "msg_id": "",
            "outputs": [
              {
                "output_type": "display_data",
                "data": {
                  "text/plain": "\n",
                  "text/html": "<pre style=\"white-space:pre;overflow-x:auto;line-height:normal;font-family:Menlo,'DejaVu Sans Mono',consolas,'Courier New',monospace\">\n</pre>\n"
                },
                "metadata": {}
              },
              {
                "output_type": "display_data",
                "data": {
                  "text/plain": "\u001b[1;36m🚀 Crew: \u001b[0m\u001b[1;36mcrew\u001b[0m\n└── \u001b[1;33m📋 Task: 965f4310-9f30-454b-8521-1a88760c2c60\u001b[0m\n    \u001b[37mStatus: \u001b[0m\u001b[2;33mExecuting Task...\u001b[0m\n    └── \u001b[1;34m🧠 \u001b[0m\u001b[34mThinking...\u001b[0m\n",
                  "text/html": "<pre style=\"white-space:pre;overflow-x:auto;line-height:normal;font-family:Menlo,'DejaVu Sans Mono',consolas,'Courier New',monospace\"><span style=\"color: #008080; text-decoration-color: #008080; font-weight: bold\">🚀 Crew: crew</span>\n└── <span style=\"color: #808000; text-decoration-color: #808000; font-weight: bold\">📋 Task: 965f4310-9f30-454b-8521-1a88760c2c60</span>\n    <span style=\"color: #c0c0c0; text-decoration-color: #c0c0c0\">Status: </span><span style=\"color: #bfbf7f; text-decoration-color: #bfbf7f\">Executing Task...</span>\n    └── <span style=\"color: #000080; text-decoration-color: #000080; font-weight: bold\">🧠 </span><span style=\"color: #000080; text-decoration-color: #000080\">Thinking...</span>\n</pre>\n"
                },
                "metadata": {}
              }
            ]
          }
        },
        "000b4fad05ba43d691f0c1db242e8959": {
          "model_module": "@jupyter-widgets/base",
          "model_name": "LayoutModel",
          "model_module_version": "1.2.0",
          "state": {
            "_model_module": "@jupyter-widgets/base",
            "_model_module_version": "1.2.0",
            "_model_name": "LayoutModel",
            "_view_count": null,
            "_view_module": "@jupyter-widgets/base",
            "_view_module_version": "1.2.0",
            "_view_name": "LayoutView",
            "align_content": null,
            "align_items": null,
            "align_self": null,
            "border": null,
            "bottom": null,
            "display": null,
            "flex": null,
            "flex_flow": null,
            "grid_area": null,
            "grid_auto_columns": null,
            "grid_auto_flow": null,
            "grid_auto_rows": null,
            "grid_column": null,
            "grid_gap": null,
            "grid_row": null,
            "grid_template_areas": null,
            "grid_template_columns": null,
            "grid_template_rows": null,
            "height": null,
            "justify_content": null,
            "justify_items": null,
            "left": null,
            "margin": null,
            "max_height": null,
            "max_width": null,
            "min_height": null,
            "min_width": null,
            "object_fit": null,
            "object_position": null,
            "order": null,
            "overflow": null,
            "overflow_x": null,
            "overflow_y": null,
            "padding": null,
            "right": null,
            "top": null,
            "visibility": null,
            "width": null
          }
        },
        "3f3d4cc878694ce192d490b0597a6c38": {
          "model_module": "@jupyter-widgets/output",
          "model_name": "OutputModel",
          "model_module_version": "1.0.0",
          "state": {
            "_dom_classes": [],
            "_model_module": "@jupyter-widgets/output",
            "_model_module_version": "1.0.0",
            "_model_name": "OutputModel",
            "_view_count": null,
            "_view_module": "@jupyter-widgets/output",
            "_view_module_version": "1.0.0",
            "_view_name": "OutputView",
            "layout": "IPY_MODEL_78ba94c86a6b458a806ab222fc35f4fb",
            "msg_id": "",
            "outputs": [
              {
                "output_type": "display_data",
                "data": {
                  "text/plain": "\u001b[32m╭─\u001b[0m\u001b[32m───────────────────────────────────────────────\u001b[0m\u001b[32m Crew Completion \u001b[0m\u001b[32m───────────────────────────────────────────────\u001b[0m\u001b[32m─╮\u001b[0m\n\u001b[32m│\u001b[0m                                                                                                                 \u001b[32m│\u001b[0m\n\u001b[32m│\u001b[0m  \u001b[1;32mCrew Execution Completed\u001b[0m                                                                                       \u001b[32m│\u001b[0m\n\u001b[32m│\u001b[0m  \u001b[37mName: \u001b[0m\u001b[32mcrew\u001b[0m                                                                                                     \u001b[32m│\u001b[0m\n\u001b[32m│\u001b[0m  \u001b[37mID: \u001b[0m\u001b[32mc888ddd6-b6b2-420c-85cc-0f9fa30d1172\u001b[0m                                                                       \u001b[32m│\u001b[0m\n\u001b[32m│\u001b[0m  \u001b[37mTool Args: \u001b[0m                                                                                                    \u001b[32m│\u001b[0m\n\u001b[32m│\u001b[0m  \u001b[37mFinal Output: On 11/30, the Thornhill Park team plays an away game against Veneto A2, so no further actions \u001b[0m   \u001b[32m│\u001b[0m\n\u001b[32m│\u001b[0m  \u001b[37mare needed as the match is not at home.\u001b[0m                                                                        \u001b[32m│\u001b[0m\n\u001b[32m│\u001b[0m                                                                                                                 \u001b[32m│\u001b[0m\n\u001b[32m│\u001b[0m                                                                                                                 \u001b[32m│\u001b[0m\n\u001b[32m╰─────────────────────────────────────────────────────────────────────────────────────────────────────────────────╯\u001b[0m\n",
                  "text/html": "<pre style=\"white-space:pre;overflow-x:auto;line-height:normal;font-family:Menlo,'DejaVu Sans Mono',consolas,'Courier New',monospace\"><span style=\"color: #008000; text-decoration-color: #008000\">╭──────────────────────────────────────────────── Crew Completion ────────────────────────────────────────────────╮</span>\n<span style=\"color: #008000; text-decoration-color: #008000\">│</span>                                                                                                                 <span style=\"color: #008000; text-decoration-color: #008000\">│</span>\n<span style=\"color: #008000; text-decoration-color: #008000\">│</span>  <span style=\"color: #008000; text-decoration-color: #008000; font-weight: bold\">Crew Execution Completed</span>                                                                                       <span style=\"color: #008000; text-decoration-color: #008000\">│</span>\n<span style=\"color: #008000; text-decoration-color: #008000\">│</span>  <span style=\"color: #c0c0c0; text-decoration-color: #c0c0c0\">Name: </span><span style=\"color: #008000; text-decoration-color: #008000\">crew</span>                                                                                                     <span style=\"color: #008000; text-decoration-color: #008000\">│</span>\n<span style=\"color: #008000; text-decoration-color: #008000\">│</span>  <span style=\"color: #c0c0c0; text-decoration-color: #c0c0c0\">ID: </span><span style=\"color: #008000; text-decoration-color: #008000\">c888ddd6-b6b2-420c-85cc-0f9fa30d1172</span>                                                                       <span style=\"color: #008000; text-decoration-color: #008000\">│</span>\n<span style=\"color: #008000; text-decoration-color: #008000\">│</span>  <span style=\"color: #c0c0c0; text-decoration-color: #c0c0c0\">Tool Args: </span>                                                                                                    <span style=\"color: #008000; text-decoration-color: #008000\">│</span>\n<span style=\"color: #008000; text-decoration-color: #008000\">│</span>  <span style=\"color: #c0c0c0; text-decoration-color: #c0c0c0\">Final Output: On 11/30, the Thornhill Park team plays an away game against Veneto A2, so no further actions </span>   <span style=\"color: #008000; text-decoration-color: #008000\">│</span>\n<span style=\"color: #008000; text-decoration-color: #008000\">│</span>  <span style=\"color: #c0c0c0; text-decoration-color: #c0c0c0\">are needed as the match is not at home.</span>                                                                        <span style=\"color: #008000; text-decoration-color: #008000\">│</span>\n<span style=\"color: #008000; text-decoration-color: #008000\">│</span>                                                                                                                 <span style=\"color: #008000; text-decoration-color: #008000\">│</span>\n<span style=\"color: #008000; text-decoration-color: #008000\">│</span>                                                                                                                 <span style=\"color: #008000; text-decoration-color: #008000\">│</span>\n<span style=\"color: #008000; text-decoration-color: #008000\">╰─────────────────────────────────────────────────────────────────────────────────────────────────────────────────╯</span>\n</pre>\n"
                },
                "metadata": {}
              }
            ]
          }
        },
        "78ba94c86a6b458a806ab222fc35f4fb": {
          "model_module": "@jupyter-widgets/base",
          "model_name": "LayoutModel",
          "model_module_version": "1.2.0",
          "state": {
            "_model_module": "@jupyter-widgets/base",
            "_model_module_version": "1.2.0",
            "_model_name": "LayoutModel",
            "_view_count": null,
            "_view_module": "@jupyter-widgets/base",
            "_view_module_version": "1.2.0",
            "_view_name": "LayoutView",
            "align_content": null,
            "align_items": null,
            "align_self": null,
            "border": null,
            "bottom": null,
            "display": null,
            "flex": null,
            "flex_flow": null,
            "grid_area": null,
            "grid_auto_columns": null,
            "grid_auto_flow": null,
            "grid_auto_rows": null,
            "grid_column": null,
            "grid_gap": null,
            "grid_row": null,
            "grid_template_areas": null,
            "grid_template_columns": null,
            "grid_template_rows": null,
            "height": null,
            "justify_content": null,
            "justify_items": null,
            "left": null,
            "margin": null,
            "max_height": null,
            "max_width": null,
            "min_height": null,
            "min_width": null,
            "object_fit": null,
            "object_position": null,
            "order": null,
            "overflow": null,
            "overflow_x": null,
            "overflow_y": null,
            "padding": null,
            "right": null,
            "top": null,
            "visibility": null,
            "width": null
          }
        }
      }
    }
  },
  "nbformat": 4,
  "nbformat_minor": 5
}